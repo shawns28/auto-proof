{
 "cells": [
  {
   "cell_type": "code",
   "execution_count": 8,
   "metadata": {},
   "outputs": [
    {
     "name": "stdout",
     "output_type": "stream",
     "text": [
      "env: CUDA_DEVICE_ORDER=PCI_BUS_ID\n",
      "env: CUDA_VISIBLE_DEVICES=0\n",
      "The autoreload extension is already loaded. To reload it, use:\n",
      "  %reload_ext autoreload\n"
     ]
    }
   ],
   "source": [
    "%env CUDA_DEVICE_ORDER=PCI_BUS_ID\n",
    "%env CUDA_VISIBLE_DEVICES=0\n",
    "%matplotlib inline\n",
    "%load_ext autoreload\n",
    "%autoreload 2"
   ]
  },
  {
   "cell_type": "code",
   "execution_count": 11,
   "metadata": {},
   "outputs": [],
   "source": [
    "from caveclient import CAVEclient\n",
    "import pandas as pd\n",
    "import numpy as np\n",
    "import torch\n",
    "import json\n",
    "from pathlib import Path\n",
    "from datetime import timedelta"
   ]
  },
  {
   "cell_type": "code",
   "execution_count": 12,
   "metadata": {},
   "outputs": [],
   "source": [
    "# Initialize CAVE client\n",
    "datastack_name = \"minnie65_phase3_v1\"\n",
    "my_token = \"64df9664ce8a28852ee99167c26a9e8d\"\n",
    "client = CAVEclient(datastack_name=datastack_name, auth_token=my_token)"
   ]
  },
  {
   "cell_type": "code",
   "execution_count": 13,
   "metadata": {},
   "outputs": [],
   "source": [
    "mat_timestamp = client.materialize.get_timestamp(version=943)\n",
    "mat_version = 943\n",
    "# [date, timestamp, mean_coord_x, mean_coord_y, mean_coord_z, operation_id]\n",
    "df = pd.read_feather('../../data/minnie_splitlog_240927/minnie_splitlog_240927.feather')\n",
    "# [operation_id, sink supervoxel id, source_supervoxel id]\n",
    "edits = np.load('../../data/minnie_splitlog_240927/minnie_splitlog_240927.npy')\n",
    "save_directory = f\"../../data/pruned_minnie_splitlog_{mat_version}\""
   ]
  },
  {
   "cell_type": "code",
   "execution_count": 14,
   "metadata": {},
   "outputs": [
    {
     "ename": "KeyboardInterrupt",
     "evalue": "",
     "output_type": "error",
     "traceback": [
      "\u001b[0;31m---------------------------------------------------------------------------\u001b[0m",
      "\u001b[0;31mKeyboardInterrupt\u001b[0m                         Traceback (most recent call last)",
      "Cell \u001b[0;32mIn[14], line 2\u001b[0m\n\u001b[1;32m      1\u001b[0m \u001b[39mimport\u001b[39;00m \u001b[39mdata_utils\u001b[39;00m\n\u001b[0;32m----> 2\u001b[0m data_utils\u001b[39m.\u001b[39;49mprune_edits_before_mat(client, \u001b[39m943\u001b[39;49m, edits, df, save_directory)\n",
      "File \u001b[0;32m~/capsule/code/pre-processing/data_utils.py:31\u001b[0m, in \u001b[0;36mprune_edits_before_mat\u001b[0;34m(client, mat_version, edits, df, save_directory)\u001b[0m\n\u001b[1;32m     29\u001b[0m \u001b[39mfor\u001b[39;00m index, edit \u001b[39min\u001b[39;00m \u001b[39menumerate\u001b[39m(edits):\n\u001b[1;32m     30\u001b[0m     \u001b[39mif\u001b[39;00m edit[\u001b[39m0\u001b[39m] \u001b[39min\u001b[39;00m op_ids:\n\u001b[0;32m---> 31\u001b[0m         prune_indices\u001b[39m.\u001b[39;49mappend(index)\n\u001b[1;32m     32\u001b[0m pruned_edits \u001b[39m=\u001b[39m edits[prune_indices]\n\u001b[1;32m     33\u001b[0m np\u001b[39m.\u001b[39msave(\u001b[39mf\u001b[39m\u001b[39m\"\u001b[39m\u001b[39m{\u001b[39;00msave_directory\u001b[39m}\u001b[39;00m\u001b[39m/splitlog_\u001b[39m\u001b[39m{\u001b[39;00mmat_version\u001b[39m}\u001b[39;00m\u001b[39m.npy\u001b[39m\u001b[39m\"\u001b[39m, pruned_edits)\n",
      "\u001b[0;31mKeyboardInterrupt\u001b[0m: "
     ]
    }
   ],
   "source": [
    "import data_utils\n",
    "data_utils.prune_edits_before_mat(client, 943, edits, df, save_directory)"
   ]
  },
  {
   "cell_type": "code",
   "execution_count": null,
   "metadata": {},
   "outputs": [],
   "source": [
    "# Below is testing"
   ]
  },
  {
   "cell_type": "code",
   "execution_count": 21,
   "metadata": {},
   "outputs": [
    {
     "name": "stdout",
     "output_type": "stream",
     "text": [
      "2024-01-22 08:10:01.497934+00:00\n"
     ]
    }
   ],
   "source": [
    "print(mat_timestamp)"
   ]
  },
  {
   "cell_type": "code",
   "execution_count": 19,
   "metadata": {},
   "outputs": [],
   "source": [
    "df = df.drop(df[df['date'] > mat_timestamp].index)"
   ]
  },
  {
   "cell_type": "code",
   "execution_count": 47,
   "metadata": {},
   "outputs": [],
   "source": [
    "import os\n",
    "mat_version = 943\n",
    "pruned_directory = f\"../../data/pruned_minnie_splitlog_{mat_version}\"\n",
    "if not os.path.exists(pruned_directory):\n",
    "    os.makedirs(pruned_directory)\n",
    "df.to_feather(f\"{pruned_directory}/splitlog_{mat_version}.feather\")"
   ]
  },
  {
   "cell_type": "code",
   "execution_count": 22,
   "metadata": {},
   "outputs": [
    {
     "data": {
      "text/html": [
       "<div>\n",
       "<style scoped>\n",
       "    .dataframe tbody tr th:only-of-type {\n",
       "        vertical-align: middle;\n",
       "    }\n",
       "\n",
       "    .dataframe tbody tr th {\n",
       "        vertical-align: top;\n",
       "    }\n",
       "\n",
       "    .dataframe thead th {\n",
       "        text-align: right;\n",
       "    }\n",
       "</style>\n",
       "<table border=\"1\" class=\"dataframe\">\n",
       "  <thead>\n",
       "    <tr style=\"text-align: right;\">\n",
       "      <th></th>\n",
       "      <th>date</th>\n",
       "      <th>timestamp</th>\n",
       "      <th>mean_coord_x</th>\n",
       "      <th>mean_coord_y</th>\n",
       "      <th>mean_coord_z</th>\n",
       "      <th>operation_id</th>\n",
       "    </tr>\n",
       "  </thead>\n",
       "  <tbody>\n",
       "    <tr>\n",
       "      <th>496277</th>\n",
       "      <td>2024-01-21 16:02:43.092000+00:00</td>\n",
       "      <td>1.705853e+09</td>\n",
       "      <td>125098.633333</td>\n",
       "      <td>108029.577778</td>\n",
       "      <td>26699.00</td>\n",
       "      <td>903967</td>\n",
       "    </tr>\n",
       "    <tr>\n",
       "      <th>496278</th>\n",
       "      <td>2024-01-21 16:10:44.107000+00:00</td>\n",
       "      <td>1.705853e+09</td>\n",
       "      <td>106958.750000</td>\n",
       "      <td>87577.250000</td>\n",
       "      <td>19572.00</td>\n",
       "      <td>903969</td>\n",
       "    </tr>\n",
       "    <tr>\n",
       "      <th>496279</th>\n",
       "      <td>2024-01-21 16:11:07.639000+00:00</td>\n",
       "      <td>1.705853e+09</td>\n",
       "      <td>106821.000000</td>\n",
       "      <td>87684.666667</td>\n",
       "      <td>19573.00</td>\n",
       "      <td>903970</td>\n",
       "    </tr>\n",
       "    <tr>\n",
       "      <th>496280</th>\n",
       "      <td>2024-01-21 16:11:30.140000+00:00</td>\n",
       "      <td>1.705853e+09</td>\n",
       "      <td>106862.600000</td>\n",
       "      <td>87801.900000</td>\n",
       "      <td>19574.50</td>\n",
       "      <td>903971</td>\n",
       "    </tr>\n",
       "    <tr>\n",
       "      <th>496281</th>\n",
       "      <td>2024-01-21 16:12:25.789000+00:00</td>\n",
       "      <td>1.705854e+09</td>\n",
       "      <td>128587.750000</td>\n",
       "      <td>95285.000000</td>\n",
       "      <td>20869.00</td>\n",
       "      <td>903975</td>\n",
       "    </tr>\n",
       "    <tr>\n",
       "      <th>496282</th>\n",
       "      <td>2024-01-21 16:14:40.675000+00:00</td>\n",
       "      <td>1.705854e+09</td>\n",
       "      <td>128785.500000</td>\n",
       "      <td>105198.500000</td>\n",
       "      <td>19279.00</td>\n",
       "      <td>903977</td>\n",
       "    </tr>\n",
       "    <tr>\n",
       "      <th>496283</th>\n",
       "      <td>2024-01-21 16:16:16.363000+00:00</td>\n",
       "      <td>1.705854e+09</td>\n",
       "      <td>122913.000000</td>\n",
       "      <td>101388.833333</td>\n",
       "      <td>23303.50</td>\n",
       "      <td>903978</td>\n",
       "    </tr>\n",
       "    <tr>\n",
       "      <th>496284</th>\n",
       "      <td>2024-01-21 16:17:36.308000+00:00</td>\n",
       "      <td>1.705854e+09</td>\n",
       "      <td>122908.250000</td>\n",
       "      <td>106068.750000</td>\n",
       "      <td>20483.25</td>\n",
       "      <td>903980</td>\n",
       "    </tr>\n",
       "    <tr>\n",
       "      <th>496285</th>\n",
       "      <td>2024-01-21 16:18:12.197000+00:00</td>\n",
       "      <td>1.705854e+09</td>\n",
       "      <td>125220.000000</td>\n",
       "      <td>117978.250000</td>\n",
       "      <td>21464.50</td>\n",
       "      <td>903981</td>\n",
       "    </tr>\n",
       "    <tr>\n",
       "      <th>496286</th>\n",
       "      <td>2024-01-22 07:53:26.939000+00:00</td>\n",
       "      <td>1.705910e+09</td>\n",
       "      <td>98713.750000</td>\n",
       "      <td>90413.000000</td>\n",
       "      <td>21808.75</td>\n",
       "      <td>903984</td>\n",
       "    </tr>\n",
       "  </tbody>\n",
       "</table>\n",
       "</div>"
      ],
      "text/plain": [
       "                                   date     timestamp   mean_coord_x  \\\n",
       "496277 2024-01-21 16:02:43.092000+00:00  1.705853e+09  125098.633333   \n",
       "496278 2024-01-21 16:10:44.107000+00:00  1.705853e+09  106958.750000   \n",
       "496279 2024-01-21 16:11:07.639000+00:00  1.705853e+09  106821.000000   \n",
       "496280 2024-01-21 16:11:30.140000+00:00  1.705853e+09  106862.600000   \n",
       "496281 2024-01-21 16:12:25.789000+00:00  1.705854e+09  128587.750000   \n",
       "496282 2024-01-21 16:14:40.675000+00:00  1.705854e+09  128785.500000   \n",
       "496283 2024-01-21 16:16:16.363000+00:00  1.705854e+09  122913.000000   \n",
       "496284 2024-01-21 16:17:36.308000+00:00  1.705854e+09  122908.250000   \n",
       "496285 2024-01-21 16:18:12.197000+00:00  1.705854e+09  125220.000000   \n",
       "496286 2024-01-22 07:53:26.939000+00:00  1.705910e+09   98713.750000   \n",
       "\n",
       "         mean_coord_y  mean_coord_z  operation_id  \n",
       "496277  108029.577778      26699.00        903967  \n",
       "496278   87577.250000      19572.00        903969  \n",
       "496279   87684.666667      19573.00        903970  \n",
       "496280   87801.900000      19574.50        903971  \n",
       "496281   95285.000000      20869.00        903975  \n",
       "496282  105198.500000      19279.00        903977  \n",
       "496283  101388.833333      23303.50        903978  \n",
       "496284  106068.750000      20483.25        903980  \n",
       "496285  117978.250000      21464.50        903981  \n",
       "496286   90413.000000      21808.75        903984  "
      ]
     },
     "execution_count": 22,
     "metadata": {},
     "output_type": "execute_result"
    }
   ],
   "source": [
    "df.tail(10)"
   ]
  },
  {
   "cell_type": "code",
   "execution_count": 30,
   "metadata": {},
   "outputs": [],
   "source": [
    "prune_indices = []\n",
    "op_ids = set(df['operation_id'])\n",
    "for index, edit in enumerate(edits):\n",
    "    if edit[0] in op_ids:\n",
    "        prune_indices.append(index)"
   ]
  },
  {
   "cell_type": "code",
   "execution_count": 33,
   "metadata": {},
   "outputs": [
    {
     "name": "stdout",
     "output_type": "stream",
     "text": [
      "176204546\n",
      "[0, 1, 2, 3, 4, 5, 6, 7, 8, 9]\n",
      "[176204536, 176204537, 176204538, 176204539, 176204540, 176204541, 176204542, 176204543, 176204544, 176204545]\n"
     ]
    }
   ],
   "source": [
    "print(len(prune_indices))\n",
    "print(prune_indices[0:10])\n",
    "print(prune_indices[-10:])"
   ]
  },
  {
   "cell_type": "code",
   "execution_count": 36,
   "metadata": {},
   "outputs": [
    {
     "name": "stdout",
     "output_type": "stream",
     "text": [
      "[           903984 91917661126398025 91917661126398053]\n",
      "[           903984 91917661126398025 91917661126398053]\n",
      "[           903981 99173063413198166 99173063413198174]\n"
     ]
    }
   ],
   "source": [
    "print(edits[176204545])\n",
    "print(edits[176204544])\n",
    "print(edits[176204543])"
   ]
  },
  {
   "cell_type": "code",
   "execution_count": 37,
   "metadata": {},
   "outputs": [],
   "source": [
    "prune_edits = edits[prune_indices]"
   ]
  },
  {
   "cell_type": "code",
   "execution_count": 38,
   "metadata": {},
   "outputs": [
    {
     "name": "stdout",
     "output_type": "stream",
     "text": [
      "(176204546, 3)\n",
      "[[            47222 97197996596845829 97197996596845891]\n",
      " [            47222 97197996596845829 97197996596851211]\n",
      " [            47222 97197996596845829 97197996596845891]\n",
      " [            47222 97197996596845829 97197996596851211]\n",
      " [           105222 98393028632722115 98393028632725107]\n",
      " [           105222 98393028632725065 98393028632726303]\n",
      " [           105222 98393028632725065 98393028632734564]\n",
      " [           105222 98393028632725107 98393028632726303]\n",
      " [           105222 98393028632725107 98393028632728301]\n",
      " [           105222 98393028632726303 98393028632727324]]\n",
      "[[           903981 99243432157365429 99173063413198174]\n",
      " [           903981 99243432157365429 99243432157366481]\n",
      " [           903981 99173063413198166 99173063413198174]\n",
      " [           903981 99173063413198174 99243432157365429]\n",
      " [           903981 99173063413198174 99243432157365429]\n",
      " [           903981 99243432157365429 99173063413198174]\n",
      " [           903981 99243432157365429 99243432157366481]\n",
      " [           903981 99173063413198166 99173063413198174]\n",
      " [           903984 91917661126398025 91917661126398053]\n",
      " [           903984 91917661126398025 91917661126398053]]\n"
     ]
    }
   ],
   "source": [
    "print(prune_edits.shape)\n",
    "print(prune_edits[0:10])\n",
    "print(prune_edits[-10:])"
   ]
  },
  {
   "cell_type": "code",
   "execution_count": 9,
   "metadata": {},
   "outputs": [
    {
     "name": "stdout",
     "output_type": "stream",
     "text": [
      "47222\n",
      "105222\n",
      "107815\n",
      "115686\n",
      "115687\n",
      "115689\n",
      "115690\n",
      "115691\n",
      "115700\n",
      "115703\n"
     ]
    }
   ],
   "source": [
    "counter = 0\n",
    "for op_id in df['operation_id']:\n",
    "    print(op_id)\n",
    "    counter += 1\n",
    "    if counter == 10:\n",
    "        break"
   ]
  },
  {
   "cell_type": "code",
   "execution_count": 48,
   "metadata": {},
   "outputs": [],
   "source": [
    "np.save(f\"{pruned_directory}/splitlog_{mat_version}.npy\", prune_edits)"
   ]
  },
  {
   "cell_type": "code",
   "execution_count": null,
   "metadata": {},
   "outputs": [],
   "source": []
  }
 ],
 "metadata": {
  "kernelspec": {
   "display_name": "Python 3 (ipykernel)",
   "language": "python",
   "name": "python3"
  },
  "language_info": {
   "codemirror_mode": {
    "name": "ipython",
    "version": 3
   },
   "file_extension": ".py",
   "mimetype": "text/x-python",
   "name": "python",
   "nbconvert_exporter": "python",
   "pygments_lexer": "ipython3",
   "version": "3.12.4"
  },
  "vscode": {
   "interpreter": {
    "hash": "d4d1e4263499bec80672ea0156c357c1ee493ec2b1c70f0acce89fc37c4a6abe"
   }
  }
 },
 "nbformat": 4,
 "nbformat_minor": 4
}
