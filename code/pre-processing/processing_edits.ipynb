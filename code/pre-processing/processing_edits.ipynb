{
 "cells": [
  {
   "cell_type": "code",
   "execution_count": 1,
   "id": "d2b66895-1bc2-4172-8ff4-4e33c68a5b83",
   "metadata": {
    "tags": []
   },
   "outputs": [
    {
     "name": "stdout",
     "output_type": "stream",
     "text": [
      "env: CUDA_DEVICE_ORDER=PCI_BUS_ID\n",
      "env: CUDA_VISIBLE_DEVICES=0\n"
     ]
    }
   ],
   "source": [
    "%env CUDA_DEVICE_ORDER=PCI_BUS_ID\n",
    "%env CUDA_VISIBLE_DEVICES=0\n",
    "%matplotlib inline\n",
    "%load_ext autoreload\n",
    "%autoreload 2"
   ]
  },
  {
   "cell_type": "code",
   "execution_count": 2,
   "id": "9c41c015-553c-4e91-9696-47b47682c483",
   "metadata": {
    "tags": []
   },
   "outputs": [],
   "source": [
    "from caveclient import CAVEclient\n",
    "import pandas as pd\n",
    "import numpy as np\n",
    "import torch\n",
    "import json\n",
    "from pathlib import Path\n",
    "from datetime import timedelta"
   ]
  },
  {
   "cell_type": "code",
   "execution_count": 3,
   "id": "3be9fb0d-73a1-41a6-be5f-8ac0203bfd04",
   "metadata": {
    "tags": []
   },
   "outputs": [
    {
     "name": "stdout",
     "output_type": "stream",
     "text": [
      "Using device: cuda\n",
      "Tesla T4\n"
     ]
    }
   ],
   "source": [
    "# Check Device\n",
    "device = torch.device('cuda' if torch.cuda.is_available() else 'cpu')\n",
    "print('Using device:', device)\n",
    "if (torch.cuda.is_available()):\n",
    "    print(torch.cuda.get_device_name(0))"
   ]
  },
  {
   "cell_type": "code",
   "execution_count": 4,
   "id": "2f56b2ff-07d4-4e80-87ae-a26a82de7bff",
   "metadata": {
    "tags": []
   },
   "outputs": [],
   "source": [
    "# Load Config\n",
    "# Ignoring config for now"
   ]
  },
  {
   "cell_type": "code",
   "execution_count": 5,
   "id": "b6a69ae2-2e8c-4326-bf47-e6a8baada3bb",
   "metadata": {
    "tags": []
   },
   "outputs": [],
   "source": [
    "# data_path = config['data']['path']\n",
    "# print(data_path)"
   ]
  },
  {
   "cell_type": "code",
   "execution_count": 6,
   "id": "cf5be354-99d7-4648-8321-f2b7833df0ac",
   "metadata": {
    "tags": []
   },
   "outputs": [],
   "source": [
    "# Load operation ids with timestamps\n",
    "df = pd.read_feather('../../data/minnie_splitlog_240927/minnie_splitlog_240927.feather')"
   ]
  },
  {
   "cell_type": "code",
   "execution_count": 7,
   "id": "966c6b46-1502-4a3c-a536-b115ae91f136",
   "metadata": {
    "tags": []
   },
   "outputs": [
    {
     "data": {
      "text/html": [
       "<div>\n",
       "<style scoped>\n",
       "    .dataframe tbody tr th:only-of-type {\n",
       "        vertical-align: middle;\n",
       "    }\n",
       "\n",
       "    .dataframe tbody tr th {\n",
       "        vertical-align: top;\n",
       "    }\n",
       "\n",
       "    .dataframe thead th {\n",
       "        text-align: right;\n",
       "    }\n",
       "</style>\n",
       "<table border=\"1\" class=\"dataframe\">\n",
       "  <thead>\n",
       "    <tr style=\"text-align: right;\">\n",
       "      <th></th>\n",
       "      <th>date</th>\n",
       "      <th>timestamp</th>\n",
       "      <th>mean_coord_x</th>\n",
       "      <th>mean_coord_y</th>\n",
       "      <th>mean_coord_z</th>\n",
       "      <th>operation_id</th>\n",
       "    </tr>\n",
       "  </thead>\n",
       "  <tbody>\n",
       "    <tr>\n",
       "      <th>0</th>\n",
       "      <td>2020-07-29 09:29:47.046010+00:00</td>\n",
       "      <td>1.596015e+09</td>\n",
       "      <td>117787.0</td>\n",
       "      <td>100298.500000</td>\n",
       "      <td>18901.000000</td>\n",
       "      <td>47222</td>\n",
       "    </tr>\n",
       "    <tr>\n",
       "      <th>1</th>\n",
       "      <td>2020-08-17 08:09:30.213000+00:00</td>\n",
       "      <td>1.597652e+09</td>\n",
       "      <td>122348.5</td>\n",
       "      <td>95767.500000</td>\n",
       "      <td>21351.000000</td>\n",
       "      <td>105222</td>\n",
       "    </tr>\n",
       "    <tr>\n",
       "      <th>2</th>\n",
       "      <td>2020-08-20 14:21:23.740000+00:00</td>\n",
       "      <td>1.597933e+09</td>\n",
       "      <td>122647.5</td>\n",
       "      <td>95861.000000</td>\n",
       "      <td>21358.000000</td>\n",
       "      <td>107815</td>\n",
       "    </tr>\n",
       "    <tr>\n",
       "      <th>3</th>\n",
       "      <td>2020-09-02 20:09:30.303000+00:00</td>\n",
       "      <td>1.599077e+09</td>\n",
       "      <td>162144.2</td>\n",
       "      <td>46332.355556</td>\n",
       "      <td>26524.933333</td>\n",
       "      <td>115686</td>\n",
       "    </tr>\n",
       "    <tr>\n",
       "      <th>4</th>\n",
       "      <td>2020-09-02 20:09:50.511000+00:00</td>\n",
       "      <td>1.599077e+09</td>\n",
       "      <td>159585.5</td>\n",
       "      <td>53807.000000</td>\n",
       "      <td>27261.000000</td>\n",
       "      <td>115687</td>\n",
       "    </tr>\n",
       "  </tbody>\n",
       "</table>\n",
       "</div>"
      ],
      "text/plain": [
       "                              date     timestamp  mean_coord_x   mean_coord_y  \\\n",
       "0 2020-07-29 09:29:47.046010+00:00  1.596015e+09      117787.0  100298.500000   \n",
       "1 2020-08-17 08:09:30.213000+00:00  1.597652e+09      122348.5   95767.500000   \n",
       "2 2020-08-20 14:21:23.740000+00:00  1.597933e+09      122647.5   95861.000000   \n",
       "3 2020-09-02 20:09:30.303000+00:00  1.599077e+09      162144.2   46332.355556   \n",
       "4 2020-09-02 20:09:50.511000+00:00  1.599077e+09      159585.5   53807.000000   \n",
       "\n",
       "   mean_coord_z  operation_id  \n",
       "0  18901.000000         47222  \n",
       "1  21351.000000        105222  \n",
       "2  21358.000000        107815  \n",
       "3  26524.933333        115686  \n",
       "4  27261.000000        115687  "
      ]
     },
     "execution_count": 7,
     "metadata": {},
     "output_type": "execute_result"
    }
   ],
   "source": [
    "df.head(5)"
   ]
  },
  {
   "cell_type": "code",
   "execution_count": 8,
   "id": "fb60d73b-0614-42fd-bbfc-04e3f7f83004",
   "metadata": {
    "tags": []
   },
   "outputs": [
    {
     "data": {
      "text/html": [
       "<div>\n",
       "<style scoped>\n",
       "    .dataframe tbody tr th:only-of-type {\n",
       "        vertical-align: middle;\n",
       "    }\n",
       "\n",
       "    .dataframe tbody tr th {\n",
       "        vertical-align: top;\n",
       "    }\n",
       "\n",
       "    .dataframe thead th {\n",
       "        text-align: right;\n",
       "    }\n",
       "</style>\n",
       "<table border=\"1\" class=\"dataframe\">\n",
       "  <thead>\n",
       "    <tr style=\"text-align: right;\">\n",
       "      <th></th>\n",
       "      <th>date</th>\n",
       "      <th>timestamp</th>\n",
       "      <th>mean_coord_x</th>\n",
       "      <th>mean_coord_y</th>\n",
       "      <th>mean_coord_z</th>\n",
       "      <th>operation_id</th>\n",
       "    </tr>\n",
       "  </thead>\n",
       "  <tbody>\n",
       "    <tr>\n",
       "      <th>605765</th>\n",
       "      <td>2024-09-28 02:35:21.204000+00:00</td>\n",
       "      <td>1.727491e+09</td>\n",
       "      <td>116073.277778</td>\n",
       "      <td>59638.833333</td>\n",
       "      <td>17451.111111</td>\n",
       "      <td>1194265</td>\n",
       "    </tr>\n",
       "    <tr>\n",
       "      <th>605766</th>\n",
       "      <td>2024-09-28 02:35:41.694000+00:00</td>\n",
       "      <td>1.727491e+09</td>\n",
       "      <td>104502.821429</td>\n",
       "      <td>63632.113095</td>\n",
       "      <td>15037.690476</td>\n",
       "      <td>1194266</td>\n",
       "    </tr>\n",
       "    <tr>\n",
       "      <th>605767</th>\n",
       "      <td>2024-09-28 02:35:55.615000+00:00</td>\n",
       "      <td>1.727491e+09</td>\n",
       "      <td>119011.416667</td>\n",
       "      <td>75638.122024</td>\n",
       "      <td>24492.101190</td>\n",
       "      <td>1194267</td>\n",
       "    </tr>\n",
       "    <tr>\n",
       "      <th>605768</th>\n",
       "      <td>2024-09-28 02:36:46.009000+00:00</td>\n",
       "      <td>1.727491e+09</td>\n",
       "      <td>121120.620301</td>\n",
       "      <td>57906.807018</td>\n",
       "      <td>16755.139098</td>\n",
       "      <td>1194269</td>\n",
       "    </tr>\n",
       "    <tr>\n",
       "      <th>605769</th>\n",
       "      <td>2024-09-28 02:37:20.040000+00:00</td>\n",
       "      <td>1.727491e+09</td>\n",
       "      <td>104198.325000</td>\n",
       "      <td>63961.841667</td>\n",
       "      <td>15032.516667</td>\n",
       "      <td>1194270</td>\n",
       "    </tr>\n",
       "  </tbody>\n",
       "</table>\n",
       "</div>"
      ],
      "text/plain": [
       "                                   date     timestamp   mean_coord_x  \\\n",
       "605765 2024-09-28 02:35:21.204000+00:00  1.727491e+09  116073.277778   \n",
       "605766 2024-09-28 02:35:41.694000+00:00  1.727491e+09  104502.821429   \n",
       "605767 2024-09-28 02:35:55.615000+00:00  1.727491e+09  119011.416667   \n",
       "605768 2024-09-28 02:36:46.009000+00:00  1.727491e+09  121120.620301   \n",
       "605769 2024-09-28 02:37:20.040000+00:00  1.727491e+09  104198.325000   \n",
       "\n",
       "        mean_coord_y  mean_coord_z  operation_id  \n",
       "605765  59638.833333  17451.111111       1194265  \n",
       "605766  63632.113095  15037.690476       1194266  \n",
       "605767  75638.122024  24492.101190       1194267  \n",
       "605768  57906.807018  16755.139098       1194269  \n",
       "605769  63961.841667  15032.516667       1194270  "
      ]
     },
     "execution_count": 8,
     "metadata": {},
     "output_type": "execute_result"
    }
   ],
   "source": [
    "df.tail(5)"
   ]
  },
  {
   "cell_type": "code",
   "execution_count": 9,
   "id": "57171fe1-494c-49a8-8ad8-23201b0aea19",
   "metadata": {
    "tags": []
   },
   "outputs": [],
   "source": [
    "# Load edit history\n",
    "# [operation_id, sink supervoxel id, source_supervoxel id]\n",
    "edits = np.load('../../data/minnie_splitlog_240927/minnie_splitlog_240927.npy')"
   ]
  },
  {
   "cell_type": "code",
   "execution_count": 10,
   "id": "0395637c-3190-47a2-b346-ca239243704a",
   "metadata": {
    "tags": []
   },
   "outputs": [
    {
     "data": {
      "text/plain": [
       "(183743156, 3)"
      ]
     },
     "execution_count": 10,
     "metadata": {},
     "output_type": "execute_result"
    }
   ],
   "source": [
    "edits.shape"
   ]
  },
  {
   "cell_type": "code",
   "execution_count": 11,
   "id": "cb4d9df4-4b8d-47f1-a00f-1bb1fe98a6ae",
   "metadata": {
    "tags": []
   },
   "outputs": [
    {
     "name": "stdout",
     "output_type": "stream",
     "text": [
      "[[            47222 97197996596845829 97197996596845891]\n",
      " [            47222 97197996596845829 97197996596851211]\n",
      " [            47222 97197996596845829 97197996596845891]\n",
      " [            47222 97197996596845829 97197996596851211]\n",
      " [           105222 98393028632722115 98393028632725107]\n",
      " [           105222 98393028632725065 98393028632726303]\n",
      " [           105222 98393028632725065 98393028632734564]\n",
      " [           105222 98393028632725107 98393028632726303]\n",
      " [           105222 98393028632725107 98393028632728301]\n",
      " [           105222 98393028632726303 98393028632727324]]\n"
     ]
    }
   ],
   "source": [
    "print(edits[0:10])"
   ]
  },
  {
   "cell_type": "code",
   "execution_count": 12,
   "id": "49f96639-74fe-402e-81eb-9cce378c67ff",
   "metadata": {
    "tags": []
   },
   "outputs": [
    {
     "name": "stdout",
     "output_type": "stream",
     "text": [
      "[            304308 103111169795278386 103111169795297864]\n"
     ]
    }
   ],
   "source": [
    "print(edits[17000000])"
   ]
  },
  {
   "cell_type": "code",
   "execution_count": 13,
   "id": "3d5099f3-d795-4ca3-ad62-dbb841c233a7",
   "metadata": {
    "tags": []
   },
   "outputs": [
    {
     "name": "stdout",
     "output_type": "stream",
     "text": [
      "[[          1194270 93458694519564700 93458694519567553]\n",
      " [          1194270 93388325775409047 93388325775413568]\n",
      " [          1194270 93388325775409047 93388325775410020]\n",
      " [          1194270 93388325775409047 93458694519564690]\n",
      " [          1194270 93458694519564690 93388325775409047]\n",
      " [          1194270 93458694519564690 93458694519564700]\n",
      " [          1194270 93458694519564690 93388325775409047]\n",
      " [          1194270 93458694519564690 93458694519564700]\n",
      " [          1194270 93388325775409047 93388325775410020]\n",
      " [          1194270 93388325775409047 93458694519564690]]\n"
     ]
    }
   ],
   "source": [
    "print(edits[-10:])"
   ]
  },
  {
   "cell_type": "code",
   "execution_count": 14,
   "id": "81d792bb-b7bc-49ea-b693-6754b3d68eec",
   "metadata": {
    "tags": []
   },
   "outputs": [],
   "source": [
    "# To create a new token\n",
    "# client = caveclient.CAVEclient()\n",
    "# client.auth.setup_token(make_new=True)"
   ]
  },
  {
   "cell_type": "code",
   "execution_count": 15,
   "id": "8b10845b-1653-4c43-a859-5fc7c2c40a8c",
   "metadata": {
    "tags": []
   },
   "outputs": [],
   "source": [
    "# Initialize CAVE client\n",
    "datastack_name = \"minnie65_phase3_v1\"\n",
    "my_token = \"64df9664ce8a28852ee99167c26a9e8d\"\n",
    "client = CAVEclient(datastack_name=datastack_name, auth_token=my_token)"
   ]
  },
  {
   "cell_type": "code",
   "execution_count": 16,
   "id": "7398ddf7-b8f2-4b93-b1a4-34690dc3add0",
   "metadata": {
    "tags": []
   },
   "outputs": [],
   "source": [
    "# print the root ids at the 943 materialization, pre-edit and at edit time for the sink and source sv\n",
    "def print_root_ids(df, operation_id, edits, materialization, client):\n",
    "    # get source, sink svs for operation id\n",
    "    indices = np.where(edits[:, 0] == operation_id)\n",
    "    svs = edits[indices]\n",
    "    # get first sink/source id for the operation id\n",
    "    sink = svs[0][1]\n",
    "    source = svs[0][2]\n",
    "    first_svs = [sink, source]\n",
    "    # get timestamps\n",
    "    ts_edit = pd.to_datetime(df.loc[df['operation_id'] == operation_id, 'date'].values[0])\n",
    "    one_ms = timedelta(milliseconds=1)\n",
    "    ts_pre_edit = ts_edit - one_ms\n",
    "    ts_mat = client.materialize.get_timestamp(version=materialization)\n",
    "    print(\"pre-edit ts: \", ts_pre_edit)\n",
    "    print(\"edit ts:     \", ts_edit)\n",
    "    print(\"mat ts:      \", ts_mat)\n",
    "    # get root ids\n",
    "    counter = 0\n",
    "    for sv in first_svs:\n",
    "        root_id_pre_edit = client.chunkedgraph.get_root_id(sv, ts_pre_edit)\n",
    "        root_id_edit = client.chunkedgraph.get_root_id(sv, ts_edit)\n",
    "        root_id_mat =  client.chunkedgraph.get_root_id(sv, ts_mat)\n",
    "        if counter == 0:\n",
    "            print(\"sink sv:          \", sv)\n",
    "        else:\n",
    "            print(\"source sv:        \", sv)\n",
    "        print(\"pre-edit root id: \", root_id_pre_edit)\n",
    "        print(\"edit root id:     \", root_id_edit)\n",
    "        print(\"mat root id:      \", root_id_mat)\n",
    "        counter += 1"
   ]
  },
  {
   "cell_type": "code",
   "execution_count": 17,
   "id": "7cfc42fd-e350-49d5-a896-44d879b01416",
   "metadata": {
    "tags": []
   },
   "outputs": [
    {
     "name": "stdout",
     "output_type": "stream",
     "text": [
      "pre-edit ts:  2020-07-29 09:29:47.045010\n",
      "edit ts:      2020-07-29 09:29:47.046010\n",
      "mat ts:       2024-01-22 08:10:01.497934+00:00\n",
      "sink sv:           97197996596845829\n",
      "pre-edit root id:  864691135776571232\n",
      "edit root id:      864691135256230831\n",
      "mat root id:       864691135256230831\n",
      "source sv:         97197996596845891\n",
      "pre-edit root id:  864691135776571232\n",
      "edit root id:      864691135952048931\n",
      "mat root id:       864691135952048931\n"
     ]
    }
   ],
   "source": [
    "print_root_ids(df, 47222, edits, 943, client)"
   ]
  },
  {
   "cell_type": "code",
   "execution_count": 18,
   "id": "78e0e8b2-41bf-4126-a9a1-24fc4b914bb1",
   "metadata": {
    "tags": []
   },
   "outputs": [],
   "source": [
    "# Was confused why in the above example, the edit root and mat root are the same \n",
    "# but it makes sense since it looks the component in question is already a fragment\n",
    "# and probably ignored subsequently. Checked the component on neuroglancer.\n",
    "# https://spelunker.cave-explorer.org/#!middleauth+https://global.daf-apis.com/nglstate/api/v1/5001713200136192"
   ]
  },
  {
   "cell_type": "code",
   "execution_count": 19,
   "id": "73221908-2826-4c30-b6df-f90cdfc01b97",
   "metadata": {
    "tags": []
   },
   "outputs": [
    {
     "name": "stdout",
     "output_type": "stream",
     "text": [
      "sink\n",
      "[            47222 97197996596845829 97197996596845891]\n",
      "[            47222 97197996596845829 97197996596845891]\n",
      "source\n",
      "[            47222 97197996596845829 97197996596845891]\n",
      "[            47222 97197996596845829 97197996596851211]\n"
     ]
    }
   ],
   "source": [
    "# Proving that this segment was not touched again\n",
    "# Checking that the source and sink sv are not in the edit history again after this operation id\n",
    "print(\"sink\")\n",
    "edits_for_97197996596845829 = np.where(edits[:, 1:3] == 97197996596845829)\n",
    "for arr in edits_for_97197996596845829:\n",
    "    print(edits[arr[0]])\n",
    "print(\"source\")\n",
    "edits_for_97197996596845891 = np.where(edits[:, 1:3] == 97197996596845891)\n",
    "for arr in edits_for_97197996596845891:\n",
    "    print(edits[arr[0]])"
   ]
  },
  {
   "cell_type": "code",
   "execution_count": 20,
   "id": "4cdc4dd4-9a8f-4f77-b4d5-133e526e1ea6",
   "metadata": {
    "tags": []
   },
   "outputs": [
    {
     "name": "stdout",
     "output_type": "stream",
     "text": [
      "pre-edit ts:  2020-08-17 08:09:30.212000\n",
      "edit ts:      2020-08-17 08:09:30.213000\n",
      "mat ts:       2024-01-22 08:10:01.497934+00:00\n",
      "sink sv:           98393028632722115\n",
      "pre-edit root id:  864691136175092486\n",
      "edit root id:      864691135502085045\n",
      "mat root id:       864691135502085045\n",
      "source sv:         98393028632725107\n",
      "pre-edit root id:  864691136175092486\n",
      "edit root id:      864691135850482375\n",
      "mat root id:       864691135762613558\n"
     ]
    }
   ],
   "source": [
    "print_root_ids(df, 105222, edits, 943, client)"
   ]
  },
  {
   "cell_type": "code",
   "execution_count": 21,
   "id": "5d88b505-9d58-4d0a-be6f-10aba6a22901",
   "metadata": {
    "tags": []
   },
   "outputs": [
    {
     "name": "stdout",
     "output_type": "stream",
     "text": [
      "pre-edit ts:  2022-01-17 18:59:51.584000\n",
      "edit ts:      2022-01-17 18:59:51.585000\n",
      "mat ts:       2024-01-22 08:10:01.497934+00:00\n",
      "sink sv:           103111169795260140\n",
      "pre-edit root id:  864691136236982287\n",
      "edit root id:      864691135785681860\n",
      "mat root id:       864691135517810826\n",
      "source sv:         103111169795270503\n",
      "pre-edit root id:  864691136236982287\n",
      "edit root id:      864691135785681860\n",
      "mat root id:       864691135386889089\n"
     ]
    }
   ],
   "source": [
    "print_root_ids(df, 304308, edits, 943, client)"
   ]
  },
  {
   "cell_type": "code",
   "execution_count": 22,
   "id": "4f99d7bc-9e83-4511-a626-c7f12f1c1910",
   "metadata": {
    "tags": []
   },
   "outputs": [
    {
     "name": "stdout",
     "output_type": "stream",
     "text": [
      "pre-edit ts:  2024-09-28 02:37:20.039000\n",
      "edit ts:      2024-09-28 02:37:20.040000\n",
      "mat ts:       2024-01-22 08:10:01.497934+00:00\n",
      "sink sv:           93388325775407972\n",
      "pre-edit root id:  864691135939330817\n",
      "edit root id:      864691135539601266\n",
      "mat root id:       864691135939330817\n",
      "source sv:         93388325775409047\n",
      "pre-edit root id:  864691135939330817\n",
      "edit root id:      864691135773079883\n",
      "mat root id:       864691135939330817\n"
     ]
    }
   ],
   "source": [
    "print_root_ids(df, 1194270, edits, 943, client)"
   ]
  },
  {
   "cell_type": "code",
   "execution_count": 23,
   "id": "675e93fc-9699-4842-8823-4d32b7c2d8b8",
   "metadata": {
    "tags": []
   },
   "outputs": [],
   "source": [
    "# There exists operations that are past the materialization timestamp in the edit history"
   ]
  }
 ],
 "metadata": {
  "kernelspec": {
   "display_name": "base",
   "language": "python",
   "name": "python3"
  },
  "language_info": {
   "codemirror_mode": {
    "name": "ipython",
    "version": 3
   },
   "file_extension": ".py",
   "mimetype": "text/x-python",
   "name": "python",
   "nbconvert_exporter": "python",
   "pygments_lexer": "ipython3",
   "version": "3.10.9 (main, Jan 11 2023, 15:21:40) [GCC 11.2.0]"
  },
  "vscode": {
   "interpreter": {
    "hash": "d4d1e4263499bec80672ea0156c357c1ee493ec2b1c70f0acce89fc37c4a6abe"
   }
  }
 },
 "nbformat": 4,
 "nbformat_minor": 5
}
