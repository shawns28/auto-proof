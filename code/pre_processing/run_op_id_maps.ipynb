{
 "cells": [
  {
   "cell_type": "code",
   "execution_count": 1,
   "metadata": {
    "tags": []
   },
   "outputs": [
    {
     "name": "stdout",
     "output_type": "stream",
     "text": [
      "env: CUDA_DEVICE_ORDER=PCI_BUS_ID\n",
      "env: CUDA_VISIBLE_DEVICES=0\n"
     ]
    }
   ],
   "source": [
    "%env CUDA_DEVICE_ORDER=PCI_BUS_ID\n",
    "%env CUDA_VISIBLE_DEVICES=0\n",
    "%matplotlib inline\n",
    "%load_ext autoreload\n",
    "%autoreload 2"
   ]
  },
  {
   "cell_type": "code",
   "execution_count": null,
   "metadata": {
    "tags": []
   },
   "outputs": [],
   "source": [
    "from caveclient import CAVEclient\n",
    "import pandas as pd\n",
    "import numpy as np\n",
    "import torch\n",
    "import json\n",
    "from pathlib import Path\n",
    "from datetime import timedelta\n",
    "from tqdm.auto import tqdm\n",
    "import pickle"
   ]
  },
  {
   "cell_type": "code",
   "execution_count": 3,
   "metadata": {
    "tags": []
   },
   "outputs": [],
   "source": [
    "# Initialize CAVE client\n",
    "datastack_name = \"minnie65_phase3_v1\"\n",
    "my_token = \"64df9664ce8a28852ee99167c26a9e8d\"\n",
    "client = CAVEclient(datastack_name=datastack_name, auth_token=my_token)\n",
    "mat_version = 943\n",
    "save_directory = f\"../../data/test_minnie_dicts_{mat_version}\"\n",
    "# save_directory = f\"../../data/minnie_dicts_{mat_version}\""
   ]
  },
  {
   "cell_type": "code",
   "execution_count": 4,
   "metadata": {},
   "outputs": [],
   "source": [
    "# [date, timestamp, mean_coord_x, mean_coord_y, mean_coord_z, operation_id]\n",
    "df = pd.read_feather('../../data/pruned_minnie_splitlog_943/splitlog_943.feather')\n",
    "# [operation_id, sink supervoxel id, source_supervoxel id]\n",
    "edits = np.load('../../data/pruned_minnie_splitlog_943/splitlog_943.npy')"
   ]
  },
  {
   "cell_type": "code",
   "execution_count": 6,
   "metadata": {},
   "outputs": [],
   "source": [
    "# For testing purposes we are going to make edits a lot smaller\n",
    "pruned_df = df.drop(df[df['operation_id'] > 105900].index)\n",
    "test_edits = edits[:2500]"
   ]
  },
  {
   "cell_type": "code",
   "execution_count": 7,
   "metadata": {},
   "outputs": [
    {
     "data": {
      "text/html": [
       "<div>\n",
       "<style scoped>\n",
       "    .dataframe tbody tr th:only-of-type {\n",
       "        vertical-align: middle;\n",
       "    }\n",
       "\n",
       "    .dataframe tbody tr th {\n",
       "        vertical-align: top;\n",
       "    }\n",
       "\n",
       "    .dataframe thead th {\n",
       "        text-align: right;\n",
       "    }\n",
       "</style>\n",
       "<table border=\"1\" class=\"dataframe\">\n",
       "  <thead>\n",
       "    <tr style=\"text-align: right;\">\n",
       "      <th></th>\n",
       "      <th>date</th>\n",
       "      <th>timestamp</th>\n",
       "      <th>mean_coord_x</th>\n",
       "      <th>mean_coord_y</th>\n",
       "      <th>mean_coord_z</th>\n",
       "      <th>operation_id</th>\n",
       "    </tr>\n",
       "  </thead>\n",
       "  <tbody>\n",
       "    <tr>\n",
       "      <th>0</th>\n",
       "      <td>2020-07-29 09:29:47.046010+00:00</td>\n",
       "      <td>1.596015e+09</td>\n",
       "      <td>117787.0</td>\n",
       "      <td>100298.5</td>\n",
       "      <td>18901.0</td>\n",
       "      <td>47222</td>\n",
       "    </tr>\n",
       "    <tr>\n",
       "      <th>1</th>\n",
       "      <td>2020-08-17 08:09:30.213000+00:00</td>\n",
       "      <td>1.597652e+09</td>\n",
       "      <td>122348.5</td>\n",
       "      <td>95767.5</td>\n",
       "      <td>21351.0</td>\n",
       "      <td>105222</td>\n",
       "    </tr>\n",
       "  </tbody>\n",
       "</table>\n",
       "</div>"
      ],
      "text/plain": [
       "                              date     timestamp  mean_coord_x  mean_coord_y  \\\n",
       "0 2020-07-29 09:29:47.046010+00:00  1.596015e+09      117787.0      100298.5   \n",
       "1 2020-08-17 08:09:30.213000+00:00  1.597652e+09      122348.5       95767.5   \n",
       "\n",
       "   mean_coord_z  operation_id  \n",
       "0       18901.0         47222  \n",
       "1       21351.0        105222  "
      ]
     },
     "execution_count": 7,
     "metadata": {},
     "output_type": "execute_result"
    }
   ],
   "source": [
    "pruned_df.tail(5)"
   ]
  },
  {
   "cell_type": "code",
   "execution_count": 8,
   "metadata": {},
   "outputs": [
    {
     "name": "stdout",
     "output_type": "stream",
     "text": [
      "[[            115795 111184679062833756 111184679062840384]\n",
      " [            115795 111184679062835594 111184679062840384]\n",
      " [            115795 111184679062836523 111184679062837823]\n",
      " [            115795 111184679062836523 111184679062837828]\n",
      " [            115795 111184679062837249 111184679062837823]]\n"
     ]
    }
   ],
   "source": [
    "print(test_edits[-5:])"
   ]
  },
  {
   "cell_type": "code",
   "execution_count": 21,
   "metadata": {},
   "outputs": [
    {
     "name": "stdout",
     "output_type": "stream",
     "text": [
      "49\n"
     ]
    }
   ],
   "source": [
    "import data_utils\n",
    "op_to_svs = data_utils.create_operation_to_svs(client, mat_version, test_edits, save_directory, save=True)\n",
    "print(len(op_to_svs))"
   ]
  },
  {
   "cell_type": "code",
   "execution_count": 24,
   "metadata": {},
   "outputs": [
    {
     "name": "stdout",
     "output_type": "stream",
     "text": [
      "2\n",
      "{47222: Timestamp('2020-07-29 09:29:47.045010'), 105222: Timestamp('2020-08-17 08:09:30.212000')}\n"
     ]
    }
   ],
   "source": [
    "op_to_pre_edit_dates = data_utils.create_operation_to_pre_edit_dates(mat_version, pruned_df, save_directory, save=True)\n",
    "print(len(op_to_pre_edit_dates))\n",
    "print(op_to_pre_edit_dates)"
   ]
  },
  {
   "cell_type": "code",
   "execution_count": 25,
   "metadata": {},
   "outputs": [
    {
     "name": "stderr",
     "output_type": "stream",
     "text": [
      "  0%|          | 0/2 [00:00<?, ?it/s]\n"
     ]
    },
    {
     "ename": "AttributeError",
     "evalue": "Can't pickle local object 'create_operation_to_pre_edit_roots.<locals>.process_operation'",
     "output_type": "error",
     "traceback": [
      "\u001b[0;31m---------------------------------------------------------------------------\u001b[0m",
      "\u001b[0;31mAttributeError\u001b[0m                            Traceback (most recent call last)",
      "Cell \u001b[0;32mIn[25], line 2\u001b[0m\n\u001b[1;32m      1\u001b[0m num_processes \u001b[39m=\u001b[39m \u001b[39m2\u001b[39m\n\u001b[0;32m----> 2\u001b[0m op_to_pre_edit_roots \u001b[39m=\u001b[39m data_utils\u001b[39m.\u001b[39;49mcreate_operation_to_pre_edit_roots(client, mat_version, op_to_pre_edit_dates, op_to_svs, num_processes, save_directory, save\u001b[39m=\u001b[39;49m\u001b[39mTrue\u001b[39;49;00m)\n\u001b[1;32m      3\u001b[0m \u001b[39mprint\u001b[39m(\u001b[39mlen\u001b[39m(op_to_pre_edit_roots))\n",
      "File \u001b[0;32m~/capsule/code/pre-processing/data_utils.py:118\u001b[0m, in \u001b[0;36mcreate_operation_to_pre_edit_roots\u001b[0;34m(client, mat_version, op_to_pre_edit_dates, op_to_svs, num_processes, save_directory, save)\u001b[0m\n\u001b[1;32m    116\u001b[0m op_to_pre_edit_roots \u001b[39m=\u001b[39m manager\u001b[39m.\u001b[39mdict()\n\u001b[1;32m    117\u001b[0m \u001b[39mwith\u001b[39;00m multiprocessing\u001b[39m.\u001b[39mPool(processes\u001b[39m=\u001b[39mnum_processes) \u001b[39mas\u001b[39;00m pool, tqdm(total\u001b[39m=\u001b[39m\u001b[39mlen\u001b[39m(ops)) \u001b[39mas\u001b[39;00m pbar:\n\u001b[0;32m--> 118\u001b[0m     \u001b[39mfor\u001b[39;00m op_id, root_id \u001b[39min\u001b[39;00m pool\u001b[39m.\u001b[39mimap_unordered(process_operation, np_args_list):\n\u001b[1;32m    119\u001b[0m         op_to_pre_edit_roots[op_id] \u001b[39m=\u001b[39m root_id\n\u001b[1;32m    120\u001b[0m         pbar\u001b[39m.\u001b[39mupdate()\n",
      "File \u001b[0;32m/opt/conda/lib/python3.10/multiprocessing/pool.py:873\u001b[0m, in \u001b[0;36mIMapIterator.next\u001b[0;34m(self, timeout)\u001b[0m\n\u001b[1;32m    871\u001b[0m \u001b[39mif\u001b[39;00m success:\n\u001b[1;32m    872\u001b[0m     \u001b[39mreturn\u001b[39;00m value\n\u001b[0;32m--> 873\u001b[0m \u001b[39mraise\u001b[39;00m value\n",
      "File \u001b[0;32m/opt/conda/lib/python3.10/multiprocessing/pool.py:540\u001b[0m, in \u001b[0;36mPool._handle_tasks\u001b[0;34m(taskqueue, put, outqueue, pool, cache)\u001b[0m\n\u001b[1;32m    538\u001b[0m     \u001b[39mbreak\u001b[39;00m\n\u001b[1;32m    539\u001b[0m \u001b[39mtry\u001b[39;00m:\n\u001b[0;32m--> 540\u001b[0m     put(task)\n\u001b[1;32m    541\u001b[0m \u001b[39mexcept\u001b[39;00m \u001b[39mException\u001b[39;00m \u001b[39mas\u001b[39;00m e:\n\u001b[1;32m    542\u001b[0m     job, idx \u001b[39m=\u001b[39m task[:\u001b[39m2\u001b[39m]\n",
      "File \u001b[0;32m/opt/conda/lib/python3.10/multiprocessing/connection.py:206\u001b[0m, in \u001b[0;36m_ConnectionBase.send\u001b[0;34m(self, obj)\u001b[0m\n\u001b[1;32m    204\u001b[0m \u001b[39mself\u001b[39m\u001b[39m.\u001b[39m_check_closed()\n\u001b[1;32m    205\u001b[0m \u001b[39mself\u001b[39m\u001b[39m.\u001b[39m_check_writable()\n\u001b[0;32m--> 206\u001b[0m \u001b[39mself\u001b[39m\u001b[39m.\u001b[39m_send_bytes(_ForkingPickler\u001b[39m.\u001b[39;49mdumps(obj))\n",
      "File \u001b[0;32m/opt/conda/lib/python3.10/multiprocessing/reduction.py:51\u001b[0m, in \u001b[0;36mForkingPickler.dumps\u001b[0;34m(cls, obj, protocol)\u001b[0m\n\u001b[1;32m     48\u001b[0m \u001b[39m@classmethod\u001b[39m\n\u001b[1;32m     49\u001b[0m \u001b[39mdef\u001b[39;00m \u001b[39mdumps\u001b[39m(\u001b[39mcls\u001b[39m, obj, protocol\u001b[39m=\u001b[39m\u001b[39mNone\u001b[39;00m):\n\u001b[1;32m     50\u001b[0m     buf \u001b[39m=\u001b[39m io\u001b[39m.\u001b[39mBytesIO()\n\u001b[0;32m---> 51\u001b[0m     \u001b[39mcls\u001b[39;49m(buf, protocol)\u001b[39m.\u001b[39;49mdump(obj)\n\u001b[1;32m     52\u001b[0m     \u001b[39mreturn\u001b[39;00m buf\u001b[39m.\u001b[39mgetbuffer()\n",
      "\u001b[0;31mAttributeError\u001b[0m: Can't pickle local object 'create_operation_to_pre_edit_roots.<locals>.process_operation'"
     ]
    }
   ],
   "source": [
    "num_processes = 2\n",
    "op_to_pre_edit_roots = data_utils.create_operation_to_pre_edit_roots(client, mat_version, op_to_pre_edit_dates, op_to_svs, num_processes, save_directory, save=True)\n",
    "print(len(op_to_pre_edit_roots))"
   ]
  },
  {
   "cell_type": "code",
   "execution_count": null,
   "metadata": {},
   "outputs": [],
   "source": [
    "# Below is scratch"
   ]
  },
  {
   "cell_type": "code",
   "execution_count": 5,
   "metadata": {
    "tags": []
   },
   "outputs": [
    {
     "name": "stdout",
     "output_type": "stream",
     "text": [
      "496287\n"
     ]
    }
   ],
   "source": [
    "with open(f\"{save_directory}/operation_to_pre_edit_dates_{mat_version}.pkl\", 'rb') as f:\n",
    "    op_to_pre_date = pickle.load(f)\n",
    "print(len(op_to_pre_date))"
   ]
  },
  {
   "cell_type": "code",
   "execution_count": 6,
   "metadata": {
    "tags": []
   },
   "outputs": [
    {
     "name": "stdout",
     "output_type": "stream",
     "text": [
      "496287\n"
     ]
    }
   ],
   "source": [
    "with open(f\"{save_directory}/operation_to_supervoxels_{mat_version}.pkl\", 'rb') as f:\n",
    "    op_to_svs = pickle.load(f)\n",
    "print(len(op_to_svs))"
   ]
  },
  {
   "cell_type": "code",
   "execution_count": 7,
   "metadata": {
    "tags": []
   },
   "outputs": [],
   "source": [
    "ops = np.array(list(op_to_pre_date.keys()))\n",
    "args_list = list([(ops[i], op_to_pre_date[ops[i]], op_to_svs[ops[i]].pop(), client) for i in range(len(ops))])\n",
    "np_args_list = np.asarray(args_list, dtype=\"object\")"
   ]
  },
  {
   "cell_type": "code",
   "execution_count": 8,
   "metadata": {
    "tags": []
   },
   "outputs": [
    {
     "name": "stderr",
     "output_type": "stream",
     "text": [
      "100%|██████████| 496287/496287 [1:02:31<00:00, 132.30it/s]\n"
     ]
    }
   ],
   "source": [
    "import multiprocessing\n",
    "from tqdm import tqdm\n",
    "\n",
    "\n",
    "def fetch_root_id(client, supervoxel, date):\n",
    "    # Call the client's polling function\n",
    "    root_id = client.chunkedgraph.get_root_id(supervoxel, date)\n",
    "    return root_id\n",
    "\n",
    "def process_operation(data):\n",
    "    op_id, date, supervoxel, client = data\n",
    "    root_id = fetch_root_id(client, supervoxel, date)\n",
    "    return op_id, root_id \n",
    "\n",
    "manager = multiprocessing.Manager()\n",
    "op_to_root_ids = manager.dict()\n",
    "with multiprocessing.Pool(processes=128) as pool, tqdm(total=len(ops)) as pbar:\n",
    "    for op_id, root_id in pool.imap_unordered(process_operation, np_args_list):\n",
    "        op_to_root_ids[op_id] = root_id\n",
    "        pbar.update()"
   ]
  },
  {
   "cell_type": "code",
   "execution_count": 10,
   "metadata": {},
   "outputs": [
    {
     "name": "stdout",
     "output_type": "stream",
     "text": [
      "496287\n"
     ]
    }
   ],
   "source": [
    "print(len(op_to_root_ids))"
   ]
  },
  {
   "cell_type": "code",
   "execution_count": 11,
   "metadata": {},
   "outputs": [],
   "source": [
    "with open(f\"{save_directory}/operation_to_pre_edit_roots_{mat_version}.pkl\", 'wb') as f:\n",
    "    pickle.dump(op_to_root_ids, f)"
   ]
  },
  {
   "cell_type": "code",
   "execution_count": 12,
   "metadata": {},
   "outputs": [
    {
     "name": "stdout",
     "output_type": "stream",
     "text": [
      "496287\n"
     ]
    }
   ],
   "source": [
    "with open(f\"{save_directory}/operation_to_pre_edit_roots_{mat_version}.pkl\", 'rb') as f:\n",
    "    testing = pickle.load(f)\n",
    "print(len(testing))"
   ]
  },
  {
   "cell_type": "code",
   "execution_count": 57,
   "metadata": {},
   "outputs": [
    {
     "name": "stdout",
     "output_type": "stream",
     "text": [
      "cpus: 16\n",
      "[CAVEclient<datastack_name=minnie65_phase3_v1, server_address=https://global.daf-apis.com>, CAVEclient<datastack_name=minnie65_phase3_v1, server_address=https://global.daf-apis.com>, CAVEclient<datastack_name=minnie65_phase3_v1, server_address=https://global.daf-apis.com>, CAVEclient<datastack_name=minnie65_phase3_v1, server_address=https://global.daf-apis.com>, CAVEclient<datastack_name=minnie65_phase3_v1, server_address=https://global.daf-apis.com>, CAVEclient<datastack_name=minnie65_phase3_v1, server_address=https://global.daf-apis.com>, CAVEclient<datastack_name=minnie65_phase3_v1, server_address=https://global.daf-apis.com>, CAVEclient<datastack_name=minnie65_phase3_v1, server_address=https://global.daf-apis.com>, CAVEclient<datastack_name=minnie65_phase3_v1, server_address=https://global.daf-apis.com>, CAVEclient<datastack_name=minnie65_phase3_v1, server_address=https://global.daf-apis.com>, CAVEclient<datastack_name=minnie65_phase3_v1, server_address=https://global.daf-apis.com>, CAVEclient<datastack_name=minnie65_phase3_v1, server_address=https://global.daf-apis.com>, CAVEclient<datastack_name=minnie65_phase3_v1, server_address=https://global.daf-apis.com>, CAVEclient<datastack_name=minnie65_phase3_v1, server_address=https://global.daf-apis.com>, CAVEclient<datastack_name=minnie65_phase3_v1, server_address=https://global.daf-apis.com>, CAVEclient<datastack_name=minnie65_phase3_v1, server_address=https://global.daf-apis.com>]\n"
     ]
    }
   ],
   "source": [
    "cpus = len(os.sched_getaffinity(0))\n",
    "print(\"cpus:\", cpus)\n",
    "clients = [CAVEclient(datastack_name=datastack_name, auth_token=my_token) for i in range(cpus)]\n",
    "print(clients)"
   ]
  },
  {
   "cell_type": "code",
   "execution_count": 4,
   "metadata": {},
   "outputs": [],
   "source": [
    "# [date, timestamp, mean_coord_x, mean_coord_y, mean_coord_z, operation_id]\n",
    "df = pd.read_feather('../../data/pruned_minnie_splitlog_943/splitlog_943.feather')\n",
    "# [operation_id, sink supervoxel id, source_supervoxel id]\n",
    "edits = np.load('../../data/pruned_minnie_splitlog_943/splitlog_943.npy')"
   ]
  },
  {
   "cell_type": "code",
   "execution_count": 8,
   "metadata": {},
   "outputs": [
    {
     "data": {
      "text/html": [
       "<div>\n",
       "<style scoped>\n",
       "    .dataframe tbody tr th:only-of-type {\n",
       "        vertical-align: middle;\n",
       "    }\n",
       "\n",
       "    .dataframe tbody tr th {\n",
       "        vertical-align: top;\n",
       "    }\n",
       "\n",
       "    .dataframe thead th {\n",
       "        text-align: right;\n",
       "    }\n",
       "</style>\n",
       "<table border=\"1\" class=\"dataframe\">\n",
       "  <thead>\n",
       "    <tr style=\"text-align: right;\">\n",
       "      <th></th>\n",
       "      <th>date</th>\n",
       "      <th>timestamp</th>\n",
       "      <th>mean_coord_x</th>\n",
       "      <th>mean_coord_y</th>\n",
       "      <th>mean_coord_z</th>\n",
       "      <th>operation_id</th>\n",
       "    </tr>\n",
       "  </thead>\n",
       "  <tbody>\n",
       "    <tr>\n",
       "      <th>0</th>\n",
       "      <td>2020-07-29 09:29:47.046010+00:00</td>\n",
       "      <td>1.596015e+09</td>\n",
       "      <td>117787.000000</td>\n",
       "      <td>100298.500000</td>\n",
       "      <td>18901.000000</td>\n",
       "      <td>47222</td>\n",
       "    </tr>\n",
       "    <tr>\n",
       "      <th>1</th>\n",
       "      <td>2020-08-17 08:09:30.213000+00:00</td>\n",
       "      <td>1.597652e+09</td>\n",
       "      <td>122348.500000</td>\n",
       "      <td>95767.500000</td>\n",
       "      <td>21351.000000</td>\n",
       "      <td>105222</td>\n",
       "    </tr>\n",
       "    <tr>\n",
       "      <th>2</th>\n",
       "      <td>2020-08-20 14:21:23.740000+00:00</td>\n",
       "      <td>1.597933e+09</td>\n",
       "      <td>122647.500000</td>\n",
       "      <td>95861.000000</td>\n",
       "      <td>21358.000000</td>\n",
       "      <td>107815</td>\n",
       "    </tr>\n",
       "    <tr>\n",
       "      <th>3</th>\n",
       "      <td>2020-09-02 20:09:30.303000+00:00</td>\n",
       "      <td>1.599077e+09</td>\n",
       "      <td>162144.200000</td>\n",
       "      <td>46332.355556</td>\n",
       "      <td>26524.933333</td>\n",
       "      <td>115686</td>\n",
       "    </tr>\n",
       "    <tr>\n",
       "      <th>4</th>\n",
       "      <td>2020-09-02 20:09:50.511000+00:00</td>\n",
       "      <td>1.599077e+09</td>\n",
       "      <td>159585.500000</td>\n",
       "      <td>53807.000000</td>\n",
       "      <td>27261.000000</td>\n",
       "      <td>115687</td>\n",
       "    </tr>\n",
       "    <tr>\n",
       "      <th>5</th>\n",
       "      <td>2020-09-02 20:12:33.852000+00:00</td>\n",
       "      <td>1.599078e+09</td>\n",
       "      <td>159564.083333</td>\n",
       "      <td>53933.916667</td>\n",
       "      <td>27265.666667</td>\n",
       "      <td>115689</td>\n",
       "    </tr>\n",
       "    <tr>\n",
       "      <th>6</th>\n",
       "      <td>2020-09-02 20:12:37.750000+00:00</td>\n",
       "      <td>1.599078e+09</td>\n",
       "      <td>162263.002404</td>\n",
       "      <td>44109.615385</td>\n",
       "      <td>27237.492788</td>\n",
       "      <td>115690</td>\n",
       "    </tr>\n",
       "    <tr>\n",
       "      <th>7</th>\n",
       "      <td>2020-09-02 20:12:45.691000+00:00</td>\n",
       "      <td>1.599078e+09</td>\n",
       "      <td>147767.000000</td>\n",
       "      <td>119969.500000</td>\n",
       "      <td>23870.000000</td>\n",
       "      <td>115691</td>\n",
       "    </tr>\n",
       "    <tr>\n",
       "      <th>8</th>\n",
       "      <td>2020-09-02 20:14:15.103000+00:00</td>\n",
       "      <td>1.599078e+09</td>\n",
       "      <td>157509.000000</td>\n",
       "      <td>115241.500000</td>\n",
       "      <td>26416.000000</td>\n",
       "      <td>115700</td>\n",
       "    </tr>\n",
       "    <tr>\n",
       "      <th>9</th>\n",
       "      <td>2020-09-02 20:14:28.474000+00:00</td>\n",
       "      <td>1.599078e+09</td>\n",
       "      <td>152675.875000</td>\n",
       "      <td>121734.208333</td>\n",
       "      <td>23824.458333</td>\n",
       "      <td>115703</td>\n",
       "    </tr>\n",
       "  </tbody>\n",
       "</table>\n",
       "</div>"
      ],
      "text/plain": [
       "                              date     timestamp   mean_coord_x  \\\n",
       "0 2020-07-29 09:29:47.046010+00:00  1.596015e+09  117787.000000   \n",
       "1 2020-08-17 08:09:30.213000+00:00  1.597652e+09  122348.500000   \n",
       "2 2020-08-20 14:21:23.740000+00:00  1.597933e+09  122647.500000   \n",
       "3 2020-09-02 20:09:30.303000+00:00  1.599077e+09  162144.200000   \n",
       "4 2020-09-02 20:09:50.511000+00:00  1.599077e+09  159585.500000   \n",
       "5 2020-09-02 20:12:33.852000+00:00  1.599078e+09  159564.083333   \n",
       "6 2020-09-02 20:12:37.750000+00:00  1.599078e+09  162263.002404   \n",
       "7 2020-09-02 20:12:45.691000+00:00  1.599078e+09  147767.000000   \n",
       "8 2020-09-02 20:14:15.103000+00:00  1.599078e+09  157509.000000   \n",
       "9 2020-09-02 20:14:28.474000+00:00  1.599078e+09  152675.875000   \n",
       "\n",
       "    mean_coord_y  mean_coord_z  operation_id  \n",
       "0  100298.500000  18901.000000         47222  \n",
       "1   95767.500000  21351.000000        105222  \n",
       "2   95861.000000  21358.000000        107815  \n",
       "3   46332.355556  26524.933333        115686  \n",
       "4   53807.000000  27261.000000        115687  \n",
       "5   53933.916667  27265.666667        115689  \n",
       "6   44109.615385  27237.492788        115690  \n",
       "7  119969.500000  23870.000000        115691  \n",
       "8  115241.500000  26416.000000        115700  \n",
       "9  121734.208333  23824.458333        115703  "
      ]
     },
     "execution_count": 8,
     "metadata": {},
     "output_type": "execute_result"
    }
   ],
   "source": [
    "df.head(10)"
   ]
  },
  {
   "cell_type": "code",
   "execution_count": 9,
   "metadata": {},
   "outputs": [
    {
     "data": {
      "text/html": [
       "<div>\n",
       "<style scoped>\n",
       "    .dataframe tbody tr th:only-of-type {\n",
       "        vertical-align: middle;\n",
       "    }\n",
       "\n",
       "    .dataframe tbody tr th {\n",
       "        vertical-align: top;\n",
       "    }\n",
       "\n",
       "    .dataframe thead th {\n",
       "        text-align: right;\n",
       "    }\n",
       "</style>\n",
       "<table border=\"1\" class=\"dataframe\">\n",
       "  <thead>\n",
       "    <tr style=\"text-align: right;\">\n",
       "      <th></th>\n",
       "      <th>date</th>\n",
       "      <th>timestamp</th>\n",
       "      <th>mean_coord_x</th>\n",
       "      <th>mean_coord_y</th>\n",
       "      <th>mean_coord_z</th>\n",
       "      <th>operation_id</th>\n",
       "    </tr>\n",
       "  </thead>\n",
       "  <tbody>\n",
       "    <tr>\n",
       "      <th>496277</th>\n",
       "      <td>2024-01-21 16:02:43.092000+00:00</td>\n",
       "      <td>1.705853e+09</td>\n",
       "      <td>125098.633333</td>\n",
       "      <td>108029.577778</td>\n",
       "      <td>26699.00</td>\n",
       "      <td>903967</td>\n",
       "    </tr>\n",
       "    <tr>\n",
       "      <th>496278</th>\n",
       "      <td>2024-01-21 16:10:44.107000+00:00</td>\n",
       "      <td>1.705853e+09</td>\n",
       "      <td>106958.750000</td>\n",
       "      <td>87577.250000</td>\n",
       "      <td>19572.00</td>\n",
       "      <td>903969</td>\n",
       "    </tr>\n",
       "    <tr>\n",
       "      <th>496279</th>\n",
       "      <td>2024-01-21 16:11:07.639000+00:00</td>\n",
       "      <td>1.705853e+09</td>\n",
       "      <td>106821.000000</td>\n",
       "      <td>87684.666667</td>\n",
       "      <td>19573.00</td>\n",
       "      <td>903970</td>\n",
       "    </tr>\n",
       "    <tr>\n",
       "      <th>496280</th>\n",
       "      <td>2024-01-21 16:11:30.140000+00:00</td>\n",
       "      <td>1.705853e+09</td>\n",
       "      <td>106862.600000</td>\n",
       "      <td>87801.900000</td>\n",
       "      <td>19574.50</td>\n",
       "      <td>903971</td>\n",
       "    </tr>\n",
       "    <tr>\n",
       "      <th>496281</th>\n",
       "      <td>2024-01-21 16:12:25.789000+00:00</td>\n",
       "      <td>1.705854e+09</td>\n",
       "      <td>128587.750000</td>\n",
       "      <td>95285.000000</td>\n",
       "      <td>20869.00</td>\n",
       "      <td>903975</td>\n",
       "    </tr>\n",
       "    <tr>\n",
       "      <th>496282</th>\n",
       "      <td>2024-01-21 16:14:40.675000+00:00</td>\n",
       "      <td>1.705854e+09</td>\n",
       "      <td>128785.500000</td>\n",
       "      <td>105198.500000</td>\n",
       "      <td>19279.00</td>\n",
       "      <td>903977</td>\n",
       "    </tr>\n",
       "    <tr>\n",
       "      <th>496283</th>\n",
       "      <td>2024-01-21 16:16:16.363000+00:00</td>\n",
       "      <td>1.705854e+09</td>\n",
       "      <td>122913.000000</td>\n",
       "      <td>101388.833333</td>\n",
       "      <td>23303.50</td>\n",
       "      <td>903978</td>\n",
       "    </tr>\n",
       "    <tr>\n",
       "      <th>496284</th>\n",
       "      <td>2024-01-21 16:17:36.308000+00:00</td>\n",
       "      <td>1.705854e+09</td>\n",
       "      <td>122908.250000</td>\n",
       "      <td>106068.750000</td>\n",
       "      <td>20483.25</td>\n",
       "      <td>903980</td>\n",
       "    </tr>\n",
       "    <tr>\n",
       "      <th>496285</th>\n",
       "      <td>2024-01-21 16:18:12.197000+00:00</td>\n",
       "      <td>1.705854e+09</td>\n",
       "      <td>125220.000000</td>\n",
       "      <td>117978.250000</td>\n",
       "      <td>21464.50</td>\n",
       "      <td>903981</td>\n",
       "    </tr>\n",
       "    <tr>\n",
       "      <th>496286</th>\n",
       "      <td>2024-01-22 07:53:26.939000+00:00</td>\n",
       "      <td>1.705910e+09</td>\n",
       "      <td>98713.750000</td>\n",
       "      <td>90413.000000</td>\n",
       "      <td>21808.75</td>\n",
       "      <td>903984</td>\n",
       "    </tr>\n",
       "  </tbody>\n",
       "</table>\n",
       "</div>"
      ],
      "text/plain": [
       "                                   date     timestamp   mean_coord_x  \\\n",
       "496277 2024-01-21 16:02:43.092000+00:00  1.705853e+09  125098.633333   \n",
       "496278 2024-01-21 16:10:44.107000+00:00  1.705853e+09  106958.750000   \n",
       "496279 2024-01-21 16:11:07.639000+00:00  1.705853e+09  106821.000000   \n",
       "496280 2024-01-21 16:11:30.140000+00:00  1.705853e+09  106862.600000   \n",
       "496281 2024-01-21 16:12:25.789000+00:00  1.705854e+09  128587.750000   \n",
       "496282 2024-01-21 16:14:40.675000+00:00  1.705854e+09  128785.500000   \n",
       "496283 2024-01-21 16:16:16.363000+00:00  1.705854e+09  122913.000000   \n",
       "496284 2024-01-21 16:17:36.308000+00:00  1.705854e+09  122908.250000   \n",
       "496285 2024-01-21 16:18:12.197000+00:00  1.705854e+09  125220.000000   \n",
       "496286 2024-01-22 07:53:26.939000+00:00  1.705910e+09   98713.750000   \n",
       "\n",
       "         mean_coord_y  mean_coord_z  operation_id  \n",
       "496277  108029.577778      26699.00        903967  \n",
       "496278   87577.250000      19572.00        903969  \n",
       "496279   87684.666667      19573.00        903970  \n",
       "496280   87801.900000      19574.50        903971  \n",
       "496281   95285.000000      20869.00        903975  \n",
       "496282  105198.500000      19279.00        903977  \n",
       "496283  101388.833333      23303.50        903978  \n",
       "496284  106068.750000      20483.25        903980  \n",
       "496285  117978.250000      21464.50        903981  \n",
       "496286   90413.000000      21808.75        903984  "
      ]
     },
     "execution_count": 9,
     "metadata": {},
     "output_type": "execute_result"
    }
   ],
   "source": [
    "df.tail(10)"
   ]
  },
  {
   "cell_type": "code",
   "execution_count": 58,
   "metadata": {},
   "outputs": [],
   "source": [
    "from collections import defaultdict\n",
    "op_to_svs = defaultdict(set)\n",
    "for edit in edits:\n",
    "    op_to_svs[edit[0]].add(edit[1])\n",
    "    op_to_svs[edit[0]].add(edit[2])"
   ]
  },
  {
   "cell_type": "code",
   "execution_count": 59,
   "metadata": {},
   "outputs": [
    {
     "name": "stdout",
     "output_type": "stream",
     "text": [
      "496287\n"
     ]
    }
   ],
   "source": [
    "print(len(op_to_svs))"
   ]
  },
  {
   "cell_type": "code",
   "execution_count": 35,
   "metadata": {},
   "outputs": [
    {
     "name": "stdout",
     "output_type": "stream",
     "text": [
      "<class 'numpy.uint64'>\n",
      "<class 'set'>\n"
     ]
    }
   ],
   "source": [
    "for item in op_to_svs:\n",
    "    print(type(item))\n",
    "    print(type(op_to_svs[item]))\n",
    "    break"
   ]
  },
  {
   "cell_type": "code",
   "execution_count": null,
   "metadata": {},
   "outputs": [],
   "source": [
    "if not os.path.exists(save_directory):\n",
    "    os.makedirs(save_directory)\n",
    "with open(f\"{save_directory}/operation_to_supervoxels_{mat_version}.pkl\", 'wb') as f:\n",
    "    pickle.dump(op_to_svs, f)"
   ]
  },
  {
   "cell_type": "code",
   "execution_count": 13,
   "metadata": {},
   "outputs": [
    {
     "name": "stdout",
     "output_type": "stream",
     "text": [
      "one 0\n",
      "mult 496287\n"
     ]
    }
   ],
   "source": [
    "# nvm this is dumb\n",
    "one = 0\n",
    "mult = 0\n",
    "for op_id in op_to_svs:\n",
    "    if len(op_to_svs[op_id]) > 1:\n",
    "        mult += 1\n",
    "    else:\n",
    "        one += 1\n",
    "print(\"one\", one)\n",
    "print(\"mult\", mult)"
   ]
  },
  {
   "cell_type": "code",
   "execution_count": 24,
   "metadata": {},
   "outputs": [
    {
     "name": "stdout",
     "output_type": "stream",
     "text": [
      "{97197996596851211, 97197996596845891, 97197996596845829}\n",
      "864691135776571232\n",
      "{97197996596851211, 97197996596845891, 97197996596845829}\n",
      "{864691135776571232}\n"
     ]
    }
   ],
   "source": [
    "date = pd.to_datetime(df.loc[df['operation_id'] == 47222, 'date'].values[0])\n",
    "pre_edit_date = date - one_ms\n",
    "print(op_to_svs[op_id])\n",
    "first = client.chunkedgraph.get_root_id(97197996596851211, pre_edit_date)\n",
    "print(first)\n",
    "print(op_to_svs[op_id])\n",
    "pre_edit_root_ids = set(client.chunkedgraph.get_roots(list(op_to_svs[op_id]), pre_edit_date))\n",
    "print(pre_edit_root_ids)"
   ]
  },
  {
   "cell_type": "code",
   "execution_count": 62,
   "metadata": {},
   "outputs": [
    {
     "name": "stderr",
     "output_type": "stream",
     "text": [
      "100%|██████████| 496287/496287 [06:35<00:00, 1254.68it/s]\n"
     ]
    }
   ],
   "source": [
    "op_to_pre_date = {}\n",
    "one_ms = timedelta(milliseconds=1)\n",
    "for op_id in tqdm(df['operation_id']):\n",
    "    date = pd.to_datetime(df.loc[df['operation_id'] == op_id, 'date'].values[0])\n",
    "    pre_edit_date = date - one_ms\n",
    "    op_to_pre_date[op_id] = pre_edit_date"
   ]
  },
  {
   "cell_type": "code",
   "execution_count": 63,
   "metadata": {},
   "outputs": [
    {
     "name": "stdout",
     "output_type": "stream",
     "text": [
      "496287\n"
     ]
    }
   ],
   "source": [
    "print(len(op_to_pre_date))"
   ]
  },
  {
   "cell_type": "code",
   "execution_count": 84,
   "metadata": {},
   "outputs": [],
   "source": [
    "with open(f\"{save_directory}/operation_to_pre_edit_dates_{mat_version}.pkl\", 'wb') as f:\n",
    "    pickle.dump(op_to_pre_date, f)"
   ]
  },
  {
   "cell_type": "code",
   "execution_count": 96,
   "metadata": {},
   "outputs": [
    {
     "name": "stderr",
     "output_type": "stream",
     "text": [
      "100%|██████████| 50/50 [00:04<00:00, 11.98it/s]"
     ]
    },
    {
     "name": "stdout",
     "output_type": "stream",
     "text": [
      "{47222: 864691135776571232, 105222: 864691136175092486, 107815: 864691136272969918, 115686: 864691134908636778, 115687: 864691135657862274, 115689: 864691136041121622, 115690: 864691135753780429, 115691: 864691136771677806, 115700: 864691135461774532, 115703: 864691135644727023, 115708: 864691136286652099, 115711: 864691135508790281, 115712: 864691135898139032, 115713: 864691135415525306, 115714: 864691135986944515, 115715: 864691136041121878, 115717: 864691136286652355, 115720: 864691136571690914, 115723: 864691136010985123, 115727: 864691135012579574, 115729: 864691135343693241, 115732: 864691135256264879, 115734: 864691136328938474, 115737: 864691135937424949, 115740: 864691135986944771, 115741: 864691136899949422, 115742: 864691135458893125, 115744: 864691136388307575, 115745: 864691135964657098, 115746: 864691135775830189, 115748: 864691136273045182, 115749: 864691135341090757, 115752: 864691135341091013, 115753: 864691136194122966, 115754: 864691136617175003, 115755: 864691136361531618, 115756: 864691135235879818, 115757: 864691135593619755, 115759: 864691136273045694, 115760: 864691135807351581, 115761: 864691135474550843, 115762: 864691136273045950, 115763: 864691135122389799, 115767: 864691135915270246, 115768: 864691135346590393, 115769: 864691136273046206, 115770: 864691135560542689, 115793: 864691135876047187, 115795: 864691136911739889, 115796: 864691135850489287}\n"
     ]
    },
    {
     "name": "stderr",
     "output_type": "stream",
     "text": [
      "\n"
     ]
    }
   ],
   "source": [
    "import multiprocessing\n",
    "from tqdm import tqdm\n",
    "# print(\"cpu count\", multiprocessing.cpu_count())\n",
    "# print(\"cpu available\", len(os.sched_getaffinity(0)))\n",
    "\n",
    "def __process_op__(op_id, op_to_svs, op_to_pre_date, op_to_pre_edit_roots, lock):\n",
    "        pre_edit_root_ids = client.chunkedgraph.get_root_id(op_to_svs[op_id].pop(), op_to_pre_date[op_id])\n",
    "        #with lock:\n",
    "        op_to_pre_edit_roots[op_id] = pre_edit_root_ids\n",
    "\n",
    "\n",
    "manager = multiprocessing.Manager()\n",
    "op_to_pre_edit_roots = manager.dict()\n",
    "lock = multiprocessing.Lock()\n",
    "\n",
    "ops = np.array(list(op_to_pre_date.keys()))[:50]\n",
    "processes = []\n",
    "with tqdm(total=len(ops)) as pbar:\n",
    "    for i in range(len(ops)):\n",
    "        p = multiprocessing.Process(target=__process_op__, args=(ops[i], op_to_svs, op_to_pre_date, op_to_pre_edit_roots, lock))\n",
    "        processes.append(p)\n",
    "        p.start()\n",
    "        pbar.update()\n",
    "        pbar.refresh()\n",
    "\n",
    "    for p in processes:\n",
    "        p.join()\n",
    "pbar.close()\n",
    "\n",
    "print(op_to_pre_edit_roots)"
   ]
  },
  {
   "cell_type": "code",
   "execution_count": null,
   "metadata": {},
   "outputs": [],
   "source": [
    "import multiprocessing\n",
    "from tqdm import tqdm\n",
    "# print(\"cpu count\", multiprocessing.cpu_count())\n",
    "# print(\"cpu available\", len(os.sched_getaffinity(0)))\n",
    "\n",
    "def __process_op__(op_id, op_to_svs, op_to_pre_date, op_to_pre_edit_roots, lock):\n",
    "        pre_edit_root_ids = client.chunkedgraph.get_root_id(op_to_svs[op_id].pop(), op_to_pre_date[op_id])\n",
    "        #with lock:\n",
    "        op_to_pre_edit_roots[op_id] = pre_edit_root_ids\n",
    "\n",
    "\n",
    "manager = multiprocessing.Manager()\n",
    "op_to_pre_edit_roots = manager.dict()\n",
    "lock = multiprocessing.Lock()\n",
    "\n",
    "ops = np.array(list(op_to_pre_date.keys()))[:50]\n",
    "processes = []\n",
    "with tqdm(total=len(ops)) as pbar:\n",
    "    for i in range(len(ops)):\n",
    "        p = multiprocessing.Process(target=__process_op__, args=(ops[i], op_to_svs, op_to_pre_date, op_to_pre_edit_roots, lock))\n",
    "        processes.append(p)\n",
    "        p.start()\n",
    "        pbar.update()\n",
    "        pbar.refresh()\n",
    "\n",
    "    for p in processes:\n",
    "        p.join()\n",
    "pbar.close()\n",
    "\n",
    "print(op_to_pre_edit_roots)"
   ]
  },
  {
   "cell_type": "code",
   "execution_count": 10,
   "metadata": {},
   "outputs": [
    {
     "ename": "KeyboardInterrupt",
     "evalue": "",
     "output_type": "error",
     "traceback": [
      "\u001b[0;31m---------------------------------------------------------------------------\u001b[0m",
      "\u001b[0;31mKeyboardInterrupt\u001b[0m                         Traceback (most recent call last)",
      "Cell \u001b[0;32mIn[10], line 16\u001b[0m\n\u001b[1;32m     14\u001b[0m manager \u001b[39m=\u001b[39m multiprocessing\u001b[39m.\u001b[39mManager()\n\u001b[1;32m     15\u001b[0m op_to_pre_edit_roots \u001b[39m=\u001b[39m manager\u001b[39m.\u001b[39mdict()\n\u001b[0;32m---> 16\u001b[0m op_to_pre_date_2 \u001b[39m=\u001b[39m manager\u001b[39m.\u001b[39;49mdict(op_to_pre_date)\n\u001b[1;32m     17\u001b[0m op_to_svs_2 \u001b[39m=\u001b[39m manager\u001b[39m.\u001b[39mdict(op_to_svs)\n\u001b[1;32m     18\u001b[0m \u001b[39m# op_to_pre_edit_roots = {}\u001b[39;00m\n",
      "File \u001b[0;32m/opt/conda/lib/python3.10/multiprocessing/managers.py:723\u001b[0m, in \u001b[0;36mBaseManager.register.<locals>.temp\u001b[0;34m(self, *args, **kwds)\u001b[0m\n\u001b[1;32m    721\u001b[0m \u001b[39mdef\u001b[39;00m \u001b[39mtemp\u001b[39m(\u001b[39mself\u001b[39m, \u001b[39m/\u001b[39m, \u001b[39m*\u001b[39margs, \u001b[39m*\u001b[39m\u001b[39m*\u001b[39mkwds):\n\u001b[1;32m    722\u001b[0m     util\u001b[39m.\u001b[39mdebug(\u001b[39m'\u001b[39m\u001b[39mrequesting creation of a shared \u001b[39m\u001b[39m%r\u001b[39;00m\u001b[39m object\u001b[39m\u001b[39m'\u001b[39m, typeid)\n\u001b[0;32m--> 723\u001b[0m     token, exp \u001b[39m=\u001b[39m \u001b[39mself\u001b[39;49m\u001b[39m.\u001b[39;49m_create(typeid, \u001b[39m*\u001b[39;49margs, \u001b[39m*\u001b[39;49m\u001b[39m*\u001b[39;49mkwds)\n\u001b[1;32m    724\u001b[0m     proxy \u001b[39m=\u001b[39m proxytype(\n\u001b[1;32m    725\u001b[0m         token, \u001b[39mself\u001b[39m\u001b[39m.\u001b[39m_serializer, manager\u001b[39m=\u001b[39m\u001b[39mself\u001b[39m,\n\u001b[1;32m    726\u001b[0m         authkey\u001b[39m=\u001b[39m\u001b[39mself\u001b[39m\u001b[39m.\u001b[39m_authkey, exposed\u001b[39m=\u001b[39mexp\n\u001b[1;32m    727\u001b[0m         )\n\u001b[1;32m    728\u001b[0m     conn \u001b[39m=\u001b[39m \u001b[39mself\u001b[39m\u001b[39m.\u001b[39m_Client(token\u001b[39m.\u001b[39maddress, authkey\u001b[39m=\u001b[39m\u001b[39mself\u001b[39m\u001b[39m.\u001b[39m_authkey)\n",
      "File \u001b[0;32m/opt/conda/lib/python3.10/multiprocessing/managers.py:608\u001b[0m, in \u001b[0;36mBaseManager._create\u001b[0;34m(self, typeid, *args, **kwds)\u001b[0m\n\u001b[1;32m    606\u001b[0m conn \u001b[39m=\u001b[39m \u001b[39mself\u001b[39m\u001b[39m.\u001b[39m_Client(\u001b[39mself\u001b[39m\u001b[39m.\u001b[39m_address, authkey\u001b[39m=\u001b[39m\u001b[39mself\u001b[39m\u001b[39m.\u001b[39m_authkey)\n\u001b[1;32m    607\u001b[0m \u001b[39mtry\u001b[39;00m:\n\u001b[0;32m--> 608\u001b[0m     \u001b[39mid\u001b[39m, exposed \u001b[39m=\u001b[39m dispatch(conn, \u001b[39mNone\u001b[39;49;00m, \u001b[39m'\u001b[39;49m\u001b[39mcreate\u001b[39;49m\u001b[39m'\u001b[39;49m, (typeid,)\u001b[39m+\u001b[39;49margs, kwds)\n\u001b[1;32m    609\u001b[0m \u001b[39mfinally\u001b[39;00m:\n\u001b[1;32m    610\u001b[0m     conn\u001b[39m.\u001b[39mclose()\n",
      "File \u001b[0;32m/opt/conda/lib/python3.10/multiprocessing/managers.py:90\u001b[0m, in \u001b[0;36mdispatch\u001b[0;34m(c, id, methodname, args, kwds)\u001b[0m\n\u001b[1;32m     86\u001b[0m \u001b[39m\u001b[39m\u001b[39m'''\u001b[39;00m\n\u001b[1;32m     87\u001b[0m \u001b[39mSend a message to manager using connection `c` and return response\u001b[39;00m\n\u001b[1;32m     88\u001b[0m \u001b[39m'''\u001b[39;00m\n\u001b[1;32m     89\u001b[0m c\u001b[39m.\u001b[39msend((\u001b[39mid\u001b[39m, methodname, args, kwds))\n\u001b[0;32m---> 90\u001b[0m kind, result \u001b[39m=\u001b[39m c\u001b[39m.\u001b[39;49mrecv()\n\u001b[1;32m     91\u001b[0m \u001b[39mif\u001b[39;00m kind \u001b[39m==\u001b[39m \u001b[39m'\u001b[39m\u001b[39m#RETURN\u001b[39m\u001b[39m'\u001b[39m:\n\u001b[1;32m     92\u001b[0m     \u001b[39mreturn\u001b[39;00m result\n",
      "File \u001b[0;32m/opt/conda/lib/python3.10/multiprocessing/connection.py:250\u001b[0m, in \u001b[0;36m_ConnectionBase.recv\u001b[0;34m(self)\u001b[0m\n\u001b[1;32m    248\u001b[0m \u001b[39mself\u001b[39m\u001b[39m.\u001b[39m_check_closed()\n\u001b[1;32m    249\u001b[0m \u001b[39mself\u001b[39m\u001b[39m.\u001b[39m_check_readable()\n\u001b[0;32m--> 250\u001b[0m buf \u001b[39m=\u001b[39m \u001b[39mself\u001b[39;49m\u001b[39m.\u001b[39;49m_recv_bytes()\n\u001b[1;32m    251\u001b[0m \u001b[39mreturn\u001b[39;00m _ForkingPickler\u001b[39m.\u001b[39mloads(buf\u001b[39m.\u001b[39mgetbuffer())\n",
      "File \u001b[0;32m/opt/conda/lib/python3.10/multiprocessing/connection.py:414\u001b[0m, in \u001b[0;36mConnection._recv_bytes\u001b[0;34m(self, maxsize)\u001b[0m\n\u001b[1;32m    413\u001b[0m \u001b[39mdef\u001b[39;00m \u001b[39m_recv_bytes\u001b[39m(\u001b[39mself\u001b[39m, maxsize\u001b[39m=\u001b[39m\u001b[39mNone\u001b[39;00m):\n\u001b[0;32m--> 414\u001b[0m     buf \u001b[39m=\u001b[39m \u001b[39mself\u001b[39;49m\u001b[39m.\u001b[39;49m_recv(\u001b[39m4\u001b[39;49m)\n\u001b[1;32m    415\u001b[0m     size, \u001b[39m=\u001b[39m struct\u001b[39m.\u001b[39munpack(\u001b[39m\"\u001b[39m\u001b[39m!i\u001b[39m\u001b[39m\"\u001b[39m, buf\u001b[39m.\u001b[39mgetvalue())\n\u001b[1;32m    416\u001b[0m     \u001b[39mif\u001b[39;00m size \u001b[39m==\u001b[39m \u001b[39m-\u001b[39m\u001b[39m1\u001b[39m:\n",
      "File \u001b[0;32m/opt/conda/lib/python3.10/multiprocessing/connection.py:379\u001b[0m, in \u001b[0;36mConnection._recv\u001b[0;34m(self, size, read)\u001b[0m\n\u001b[1;32m    377\u001b[0m remaining \u001b[39m=\u001b[39m size\n\u001b[1;32m    378\u001b[0m \u001b[39mwhile\u001b[39;00m remaining \u001b[39m>\u001b[39m \u001b[39m0\u001b[39m:\n\u001b[0;32m--> 379\u001b[0m     chunk \u001b[39m=\u001b[39m read(handle, remaining)\n\u001b[1;32m    380\u001b[0m     n \u001b[39m=\u001b[39m \u001b[39mlen\u001b[39m(chunk)\n\u001b[1;32m    381\u001b[0m     \u001b[39mif\u001b[39;00m n \u001b[39m==\u001b[39m \u001b[39m0\u001b[39m:\n",
      "\u001b[0;31mKeyboardInterrupt\u001b[0m: "
     ]
    }
   ],
   "source": [
    "import multiprocessing\n",
    "from tqdm import tqdm\n",
    "import numpy as np\n",
    "# print(\"cpu count\", multiprocessing.cpu_count())\n",
    "# print(\"cpu available\", len(os.sched_getaffinity(0)))\n",
    "\n",
    "def __process_op__(data):\n",
    "    op_id, op_to_svs, op_to_pre_date, client = data\n",
    "    ts_mat = client.materialize.get_timestamp(version=943)\n",
    "    pre_edit_root_ids = client.chunkedgraph.get_root_id(97197996596845829, ts_mat)\n",
    "    # pre_edit_root_ids = client.chunkedgraph.get_root_id(op_to_svs[op_id].pop(), op_to_pre_date[op_id])\n",
    "    return pre_edit_root_ids\n",
    "\n",
    "manager = multiprocessing.Manager()\n",
    "op_to_pre_edit_roots = manager.dict()\n",
    "op_to_pre_date_2 = manager.dict(op_to_pre_date)\n",
    "op_to_svs_2 = manager.dict(op_to_svs)\n",
    "# op_to_pre_edit_roots = {}\n",
    "ops = np.array(list(op_to_pre_date.keys()))[:50]\n",
    "args_list = [(ops[i], op_to_pre_date_2, op_to_svs_2, client) for i in range(len(ops))]\n",
    "with multiprocessing.Pool() as p, tqdm(total=len(ops)) as pbar:\n",
    "    for index, pre_edit_root_ids in enumerate(p.imap(__process_op__, args_list)):\n",
    "        op_to_pre_edit_roots[ops[index]] = pre_edit_root_ids\n",
    "        pbar.update()\n",
    "        pbar.refresh()"
   ]
  },
  {
   "cell_type": "code",
   "execution_count": 8,
   "metadata": {},
   "outputs": [
    {
     "name": "stdout",
     "output_type": "stream",
     "text": [
      "[(47222, Timestamp('2020-07-29 09:29:47.045010'), 97197996596845891, CAVEclient<datastack_name=minnie65_phase3_v1, server_address=https://global.daf-apis.com>), (105222, Timestamp('2020-08-17 08:09:30.212000'), 98393028632728326, CAVEclient<datastack_name=minnie65_phase3_v1, server_address=https://global.daf-apis.com>), (107815, Timestamp('2020-08-20 14:21:23.739000'), 98533834840494983, CAVEclient<datastack_name=minnie65_phase3_v1, server_address=https://global.daf-apis.com>), (115686, Timestamp('2020-09-02 20:09:30.302000'), 109357290536546693, CAVEclient<datastack_name=minnie65_phase3_v1, server_address=https://global.daf-apis.com>), (115687, Timestamp('2020-09-02 20:09:50.510000'), 108655596093501888, CAVEclient<datastack_name=minnie65_phase3_v1, server_address=https://global.daf-apis.com>)]\n"
     ]
    }
   ],
   "source": [
    "ops = np.array(list(op_to_pre_date.keys()))\n",
    "args_list = [(op_id, op_to_pre_date[op_id], op_to_svs[op_id].pop(), client) for op_id in ops]\n",
    "print(args_list[:5])"
   ]
  },
  {
   "cell_type": "code",
   "execution_count": 12,
   "metadata": {},
   "outputs": [
    {
     "name": "stderr",
     "output_type": "stream",
     "text": [
      "  0%|          | 311/496287 [00:02<1:17:57, 106.03it/s]\n"
     ]
    },
    {
     "ename": "KeyboardInterrupt",
     "evalue": "",
     "output_type": "error",
     "traceback": [
      "\u001b[0;31m---------------------------------------------------------------------------\u001b[0m",
      "\u001b[0;31mIndexError\u001b[0m                                Traceback (most recent call last)",
      "File \u001b[0;32m/opt/conda/lib/python3.10/multiprocessing/pool.py:856\u001b[0m, in \u001b[0;36mIMapIterator.next\u001b[0;34m(self, timeout)\u001b[0m\n\u001b[1;32m    855\u001b[0m \u001b[39mtry\u001b[39;00m:\n\u001b[0;32m--> 856\u001b[0m     item \u001b[39m=\u001b[39m \u001b[39mself\u001b[39;49m\u001b[39m.\u001b[39;49m_items\u001b[39m.\u001b[39;49mpopleft()\n\u001b[1;32m    857\u001b[0m \u001b[39mexcept\u001b[39;00m \u001b[39mIndexError\u001b[39;00m:\n",
      "\u001b[0;31mIndexError\u001b[0m: pop from an empty deque",
      "\nDuring handling of the above exception, another exception occurred:\n",
      "\u001b[0;31mKeyboardInterrupt\u001b[0m                         Traceback (most recent call last)",
      "Cell \u001b[0;32mIn[12], line 14\u001b[0m\n\u001b[1;32m     12\u001b[0m ops \u001b[39m=\u001b[39m np\u001b[39m.\u001b[39marray(\u001b[39mlist\u001b[39m(op_to_pre_date\u001b[39m.\u001b[39mkeys()))\n\u001b[1;32m     13\u001b[0m \u001b[39mwith\u001b[39;00m multiprocessing\u001b[39m.\u001b[39mPool() \u001b[39mas\u001b[39;00m p, tqdm(total\u001b[39m=\u001b[39m\u001b[39mlen\u001b[39m(ops)) \u001b[39mas\u001b[39;00m pbar:\n\u001b[0;32m---> 14\u001b[0m     \u001b[39mfor\u001b[39;00m result \u001b[39min\u001b[39;00m p\u001b[39m.\u001b[39mimap(__process_op__, ops):\n\u001b[1;32m     15\u001b[0m         pbar\u001b[39m.\u001b[39mupdate()\n\u001b[1;32m     16\u001b[0m         pbar\u001b[39m.\u001b[39mrefresh()\n",
      "File \u001b[0;32m/opt/conda/lib/python3.10/multiprocessing/pool.py:861\u001b[0m, in \u001b[0;36mIMapIterator.next\u001b[0;34m(self, timeout)\u001b[0m\n\u001b[1;32m    859\u001b[0m     \u001b[39mself\u001b[39m\u001b[39m.\u001b[39m_pool \u001b[39m=\u001b[39m \u001b[39mNone\u001b[39;00m\n\u001b[1;32m    860\u001b[0m     \u001b[39mraise\u001b[39;00m \u001b[39mStopIteration\u001b[39;00m \u001b[39mfrom\u001b[39;00m \u001b[39mNone\u001b[39;00m\n\u001b[0;32m--> 861\u001b[0m \u001b[39mself\u001b[39;49m\u001b[39m.\u001b[39;49m_cond\u001b[39m.\u001b[39;49mwait(timeout)\n\u001b[1;32m    862\u001b[0m \u001b[39mtry\u001b[39;00m:\n\u001b[1;32m    863\u001b[0m     item \u001b[39m=\u001b[39m \u001b[39mself\u001b[39m\u001b[39m.\u001b[39m_items\u001b[39m.\u001b[39mpopleft()\n",
      "File \u001b[0;32m/opt/conda/lib/python3.10/threading.py:320\u001b[0m, in \u001b[0;36mCondition.wait\u001b[0;34m(self, timeout)\u001b[0m\n\u001b[1;32m    318\u001b[0m \u001b[39mtry\u001b[39;00m:    \u001b[39m# restore state no matter what (e.g., KeyboardInterrupt)\u001b[39;00m\n\u001b[1;32m    319\u001b[0m     \u001b[39mif\u001b[39;00m timeout \u001b[39mis\u001b[39;00m \u001b[39mNone\u001b[39;00m:\n\u001b[0;32m--> 320\u001b[0m         waiter\u001b[39m.\u001b[39;49macquire()\n\u001b[1;32m    321\u001b[0m         gotit \u001b[39m=\u001b[39m \u001b[39mTrue\u001b[39;00m\n\u001b[1;32m    322\u001b[0m     \u001b[39melse\u001b[39;00m:\n",
      "\u001b[0;31mKeyboardInterrupt\u001b[0m: "
     ]
    }
   ],
   "source": [
    "import multiprocessing\n",
    "from tqdm import tqdm\n",
    "# print(\"cpu count\", multiprocessing.cpu_count())\n",
    "# print(\"cpu available\", len(os.sched_getaffinity(0)))\n",
    "\n",
    "def __process_op__(op_id):\n",
    "    pre_edit_root_ids = client.chunkedgraph.get_root_id(op_to_svs[op_id].pop(), op_to_pre_date[op_id])\n",
    "    op_to_pre_edit_roots[op_id] = pre_edit_root_ids\n",
    "\n",
    "op_to_pre_edit_roots = {}\n",
    "\n",
    "ops = np.array(list(op_to_pre_date.keys()))\n",
    "with multiprocessing.Pool() as p, tqdm(total=len(ops)) as pbar:\n",
    "    for result in p.imap(__process_op__, ops):\n",
    "        pbar.update()\n",
    "        pbar.refresh()"
   ]
  },
  {
   "cell_type": "code",
   "execution_count": 82,
   "metadata": {},
   "outputs": [],
   "source": [
    "with open(f\"{save_directory}/operation_to_pre_edit_roots_{mat_version}.pkl\", 'wb') as f:\n",
    "    pickle.dump(op_to_pre_edit_roots, f)"
   ]
  },
  {
   "cell_type": "code",
   "execution_count": 83,
   "metadata": {},
   "outputs": [
    {
     "data": {
      "text/plain": [
       "0"
      ]
     },
     "execution_count": 83,
     "metadata": {},
     "output_type": "execute_result"
    }
   ],
   "source": [
    "len(op_to_pre_edit_roots)"
   ]
  },
  {
   "cell_type": "code",
   "execution_count": 67,
   "metadata": {},
   "outputs": [
    {
     "name": "stderr",
     "output_type": "stream",
     "text": [
      "  0%|          | 1818/496287 [04:05<18:30:59,  7.42it/s]\n"
     ]
    },
    {
     "ename": "KeyboardInterrupt",
     "evalue": "",
     "output_type": "error",
     "traceback": [
      "\u001b[0;31m---------------------------------------------------------------------------\u001b[0m",
      "\u001b[0;31mKeyboardInterrupt\u001b[0m                         Traceback (most recent call last)",
      "Cell \u001b[0;32mIn[67], line 4\u001b[0m\n\u001b[1;32m      2\u001b[0m one_ms \u001b[39m=\u001b[39m timedelta(milliseconds\u001b[39m=\u001b[39m\u001b[39m1\u001b[39m)\n\u001b[1;32m      3\u001b[0m \u001b[39mfor\u001b[39;00m op_id \u001b[39min\u001b[39;00m tqdm(op_to_pre_date\u001b[39m.\u001b[39mkeys()):\n\u001b[0;32m----> 4\u001b[0m     pre_edit_root_ids \u001b[39m=\u001b[39m \u001b[39mset\u001b[39m(client\u001b[39m.\u001b[39;49mchunkedgraph\u001b[39m.\u001b[39;49mget_roots(\u001b[39mlist\u001b[39;49m(op_to_svs[op_id]), op_to_pre_date[op_id]))\n\u001b[1;32m      5\u001b[0m     op_to_pre_edit_roots[op_id] \u001b[39m=\u001b[39m pre_edit_root_ids\n",
      "File \u001b[0;32m/opt/conda/lib/python3.10/site-packages/caveclient/chunkedgraph.py:263\u001b[0m, in \u001b[0;36mChunkedGraphClientV1.get_roots\u001b[0;34m(self, supervoxel_ids, timestamp, stop_layer)\u001b[0m\n\u001b[1;32m    261\u001b[0m     query_d[\u001b[39m\"\u001b[39m\u001b[39mstop_layer\u001b[39m\u001b[39m\"\u001b[39m] \u001b[39m=\u001b[39m stop_layer\n\u001b[1;32m    262\u001b[0m data \u001b[39m=\u001b[39m np\u001b[39m.\u001b[39marray(supervoxel_ids, dtype\u001b[39m=\u001b[39mnp\u001b[39m.\u001b[39muint64)\u001b[39m.\u001b[39mtobytes()\n\u001b[0;32m--> 263\u001b[0m response \u001b[39m=\u001b[39m \u001b[39mself\u001b[39;49m\u001b[39m.\u001b[39;49msession\u001b[39m.\u001b[39;49mpost(url, data\u001b[39m=\u001b[39;49mdata, params\u001b[39m=\u001b[39;49mquery_d)\n\u001b[1;32m    264\u001b[0m handle_response(response, as_json\u001b[39m=\u001b[39m\u001b[39mFalse\u001b[39;00m)\n\u001b[1;32m    265\u001b[0m \u001b[39mreturn\u001b[39;00m np\u001b[39m.\u001b[39mfrombuffer(response\u001b[39m.\u001b[39mcontent, dtype\u001b[39m=\u001b[39mnp\u001b[39m.\u001b[39muint64)\n",
      "File \u001b[0;32m/opt/conda/lib/python3.10/site-packages/requests/sessions.py:635\u001b[0m, in \u001b[0;36mSession.post\u001b[0;34m(self, url, data, json, **kwargs)\u001b[0m\n\u001b[1;32m    624\u001b[0m \u001b[39mdef\u001b[39;00m \u001b[39mpost\u001b[39m(\u001b[39mself\u001b[39m, url, data\u001b[39m=\u001b[39m\u001b[39mNone\u001b[39;00m, json\u001b[39m=\u001b[39m\u001b[39mNone\u001b[39;00m, \u001b[39m*\u001b[39m\u001b[39m*\u001b[39mkwargs):\n\u001b[1;32m    625\u001b[0m \u001b[39m    \u001b[39m\u001b[39mr\u001b[39m\u001b[39m\"\"\"Sends a POST request. Returns :class:`Response` object.\u001b[39;00m\n\u001b[1;32m    626\u001b[0m \n\u001b[1;32m    627\u001b[0m \u001b[39m    :param url: URL for the new :class:`Request` object.\u001b[39;00m\n\u001b[0;32m   (...)\u001b[0m\n\u001b[1;32m    632\u001b[0m \u001b[39m    :rtype: requests.Response\u001b[39;00m\n\u001b[1;32m    633\u001b[0m \u001b[39m    \"\"\"\u001b[39;00m\n\u001b[0;32m--> 635\u001b[0m     \u001b[39mreturn\u001b[39;00m \u001b[39mself\u001b[39;49m\u001b[39m.\u001b[39;49mrequest(\u001b[39m\"\u001b[39;49m\u001b[39mPOST\u001b[39;49m\u001b[39m\"\u001b[39;49m, url, data\u001b[39m=\u001b[39;49mdata, json\u001b[39m=\u001b[39;49mjson, \u001b[39m*\u001b[39;49m\u001b[39m*\u001b[39;49mkwargs)\n",
      "File \u001b[0;32m/opt/conda/lib/python3.10/site-packages/requests/sessions.py:587\u001b[0m, in \u001b[0;36mSession.request\u001b[0;34m(self, method, url, params, data, headers, cookies, files, auth, timeout, allow_redirects, proxies, hooks, stream, verify, cert, json)\u001b[0m\n\u001b[1;32m    582\u001b[0m send_kwargs \u001b[39m=\u001b[39m {\n\u001b[1;32m    583\u001b[0m     \u001b[39m\"\u001b[39m\u001b[39mtimeout\u001b[39m\u001b[39m\"\u001b[39m: timeout,\n\u001b[1;32m    584\u001b[0m     \u001b[39m\"\u001b[39m\u001b[39mallow_redirects\u001b[39m\u001b[39m\"\u001b[39m: allow_redirects,\n\u001b[1;32m    585\u001b[0m }\n\u001b[1;32m    586\u001b[0m send_kwargs\u001b[39m.\u001b[39mupdate(settings)\n\u001b[0;32m--> 587\u001b[0m resp \u001b[39m=\u001b[39m \u001b[39mself\u001b[39;49m\u001b[39m.\u001b[39;49msend(prep, \u001b[39m*\u001b[39;49m\u001b[39m*\u001b[39;49msend_kwargs)\n\u001b[1;32m    589\u001b[0m \u001b[39mreturn\u001b[39;00m resp\n",
      "File \u001b[0;32m/opt/conda/lib/python3.10/site-packages/requests/sessions.py:701\u001b[0m, in \u001b[0;36mSession.send\u001b[0;34m(self, request, **kwargs)\u001b[0m\n\u001b[1;32m    698\u001b[0m start \u001b[39m=\u001b[39m preferred_clock()\n\u001b[1;32m    700\u001b[0m \u001b[39m# Send the request\u001b[39;00m\n\u001b[0;32m--> 701\u001b[0m r \u001b[39m=\u001b[39m adapter\u001b[39m.\u001b[39;49msend(request, \u001b[39m*\u001b[39;49m\u001b[39m*\u001b[39;49mkwargs)\n\u001b[1;32m    703\u001b[0m \u001b[39m# Total elapsed time of the request (approximately)\u001b[39;00m\n\u001b[1;32m    704\u001b[0m elapsed \u001b[39m=\u001b[39m preferred_clock() \u001b[39m-\u001b[39m start\n",
      "File \u001b[0;32m/opt/conda/lib/python3.10/site-packages/requests/adapters.py:489\u001b[0m, in \u001b[0;36mHTTPAdapter.send\u001b[0;34m(self, request, stream, timeout, verify, cert, proxies)\u001b[0m\n\u001b[1;32m    487\u001b[0m \u001b[39mtry\u001b[39;00m:\n\u001b[1;32m    488\u001b[0m     \u001b[39mif\u001b[39;00m \u001b[39mnot\u001b[39;00m chunked:\n\u001b[0;32m--> 489\u001b[0m         resp \u001b[39m=\u001b[39m conn\u001b[39m.\u001b[39;49murlopen(\n\u001b[1;32m    490\u001b[0m             method\u001b[39m=\u001b[39;49mrequest\u001b[39m.\u001b[39;49mmethod,\n\u001b[1;32m    491\u001b[0m             url\u001b[39m=\u001b[39;49murl,\n\u001b[1;32m    492\u001b[0m             body\u001b[39m=\u001b[39;49mrequest\u001b[39m.\u001b[39;49mbody,\n\u001b[1;32m    493\u001b[0m             headers\u001b[39m=\u001b[39;49mrequest\u001b[39m.\u001b[39;49mheaders,\n\u001b[1;32m    494\u001b[0m             redirect\u001b[39m=\u001b[39;49m\u001b[39mFalse\u001b[39;49;00m,\n\u001b[1;32m    495\u001b[0m             assert_same_host\u001b[39m=\u001b[39;49m\u001b[39mFalse\u001b[39;49;00m,\n\u001b[1;32m    496\u001b[0m             preload_content\u001b[39m=\u001b[39;49m\u001b[39mFalse\u001b[39;49;00m,\n\u001b[1;32m    497\u001b[0m             decode_content\u001b[39m=\u001b[39;49m\u001b[39mFalse\u001b[39;49;00m,\n\u001b[1;32m    498\u001b[0m             retries\u001b[39m=\u001b[39;49m\u001b[39mself\u001b[39;49m\u001b[39m.\u001b[39;49mmax_retries,\n\u001b[1;32m    499\u001b[0m             timeout\u001b[39m=\u001b[39;49mtimeout,\n\u001b[1;32m    500\u001b[0m         )\n\u001b[1;32m    502\u001b[0m     \u001b[39m# Send the request.\u001b[39;00m\n\u001b[1;32m    503\u001b[0m     \u001b[39melse\u001b[39;00m:\n\u001b[1;32m    504\u001b[0m         \u001b[39mif\u001b[39;00m \u001b[39mhasattr\u001b[39m(conn, \u001b[39m\"\u001b[39m\u001b[39mproxy_pool\u001b[39m\u001b[39m\"\u001b[39m):\n",
      "File \u001b[0;32m/opt/conda/lib/python3.10/site-packages/urllib3/connectionpool.py:703\u001b[0m, in \u001b[0;36mHTTPConnectionPool.urlopen\u001b[0;34m(self, method, url, body, headers, retries, redirect, assert_same_host, timeout, pool_timeout, release_conn, chunked, body_pos, **response_kw)\u001b[0m\n\u001b[1;32m    700\u001b[0m     \u001b[39mself\u001b[39m\u001b[39m.\u001b[39m_prepare_proxy(conn)\n\u001b[1;32m    702\u001b[0m \u001b[39m# Make the request on the httplib connection object.\u001b[39;00m\n\u001b[0;32m--> 703\u001b[0m httplib_response \u001b[39m=\u001b[39m \u001b[39mself\u001b[39;49m\u001b[39m.\u001b[39;49m_make_request(\n\u001b[1;32m    704\u001b[0m     conn,\n\u001b[1;32m    705\u001b[0m     method,\n\u001b[1;32m    706\u001b[0m     url,\n\u001b[1;32m    707\u001b[0m     timeout\u001b[39m=\u001b[39;49mtimeout_obj,\n\u001b[1;32m    708\u001b[0m     body\u001b[39m=\u001b[39;49mbody,\n\u001b[1;32m    709\u001b[0m     headers\u001b[39m=\u001b[39;49mheaders,\n\u001b[1;32m    710\u001b[0m     chunked\u001b[39m=\u001b[39;49mchunked,\n\u001b[1;32m    711\u001b[0m )\n\u001b[1;32m    713\u001b[0m \u001b[39m# If we're going to release the connection in ``finally:``, then\u001b[39;00m\n\u001b[1;32m    714\u001b[0m \u001b[39m# the response doesn't need to know about the connection. Otherwise\u001b[39;00m\n\u001b[1;32m    715\u001b[0m \u001b[39m# it will also try to release it and we'll have a double-release\u001b[39;00m\n\u001b[1;32m    716\u001b[0m \u001b[39m# mess.\u001b[39;00m\n\u001b[1;32m    717\u001b[0m response_conn \u001b[39m=\u001b[39m conn \u001b[39mif\u001b[39;00m \u001b[39mnot\u001b[39;00m release_conn \u001b[39melse\u001b[39;00m \u001b[39mNone\u001b[39;00m\n",
      "File \u001b[0;32m/opt/conda/lib/python3.10/site-packages/urllib3/connectionpool.py:449\u001b[0m, in \u001b[0;36mHTTPConnectionPool._make_request\u001b[0;34m(self, conn, method, url, timeout, chunked, **httplib_request_kw)\u001b[0m\n\u001b[1;32m    444\u001b[0m             httplib_response \u001b[39m=\u001b[39m conn\u001b[39m.\u001b[39mgetresponse()\n\u001b[1;32m    445\u001b[0m         \u001b[39mexcept\u001b[39;00m \u001b[39mBaseException\u001b[39;00m \u001b[39mas\u001b[39;00m e:\n\u001b[1;32m    446\u001b[0m             \u001b[39m# Remove the TypeError from the exception chain in\u001b[39;00m\n\u001b[1;32m    447\u001b[0m             \u001b[39m# Python 3 (including for exceptions like SystemExit).\u001b[39;00m\n\u001b[1;32m    448\u001b[0m             \u001b[39m# Otherwise it looks like a bug in the code.\u001b[39;00m\n\u001b[0;32m--> 449\u001b[0m             six\u001b[39m.\u001b[39;49mraise_from(e, \u001b[39mNone\u001b[39;49;00m)\n\u001b[1;32m    450\u001b[0m \u001b[39mexcept\u001b[39;00m (SocketTimeout, BaseSSLError, SocketError) \u001b[39mas\u001b[39;00m e:\n\u001b[1;32m    451\u001b[0m     \u001b[39mself\u001b[39m\u001b[39m.\u001b[39m_raise_timeout(err\u001b[39m=\u001b[39me, url\u001b[39m=\u001b[39murl, timeout_value\u001b[39m=\u001b[39mread_timeout)\n",
      "File \u001b[0;32m<string>:3\u001b[0m, in \u001b[0;36mraise_from\u001b[0;34m(value, from_value)\u001b[0m\n",
      "File \u001b[0;32m/opt/conda/lib/python3.10/site-packages/urllib3/connectionpool.py:444\u001b[0m, in \u001b[0;36mHTTPConnectionPool._make_request\u001b[0;34m(self, conn, method, url, timeout, chunked, **httplib_request_kw)\u001b[0m\n\u001b[1;32m    441\u001b[0m \u001b[39mexcept\u001b[39;00m \u001b[39mTypeError\u001b[39;00m:\n\u001b[1;32m    442\u001b[0m     \u001b[39m# Python 3\u001b[39;00m\n\u001b[1;32m    443\u001b[0m     \u001b[39mtry\u001b[39;00m:\n\u001b[0;32m--> 444\u001b[0m         httplib_response \u001b[39m=\u001b[39m conn\u001b[39m.\u001b[39;49mgetresponse()\n\u001b[1;32m    445\u001b[0m     \u001b[39mexcept\u001b[39;00m \u001b[39mBaseException\u001b[39;00m \u001b[39mas\u001b[39;00m e:\n\u001b[1;32m    446\u001b[0m         \u001b[39m# Remove the TypeError from the exception chain in\u001b[39;00m\n\u001b[1;32m    447\u001b[0m         \u001b[39m# Python 3 (including for exceptions like SystemExit).\u001b[39;00m\n\u001b[1;32m    448\u001b[0m         \u001b[39m# Otherwise it looks like a bug in the code.\u001b[39;00m\n\u001b[1;32m    449\u001b[0m         six\u001b[39m.\u001b[39mraise_from(e, \u001b[39mNone\u001b[39;00m)\n",
      "File \u001b[0;32m/opt/conda/lib/python3.10/http/client.py:1374\u001b[0m, in \u001b[0;36mHTTPConnection.getresponse\u001b[0;34m(self)\u001b[0m\n\u001b[1;32m   1372\u001b[0m \u001b[39mtry\u001b[39;00m:\n\u001b[1;32m   1373\u001b[0m     \u001b[39mtry\u001b[39;00m:\n\u001b[0;32m-> 1374\u001b[0m         response\u001b[39m.\u001b[39;49mbegin()\n\u001b[1;32m   1375\u001b[0m     \u001b[39mexcept\u001b[39;00m \u001b[39mConnectionError\u001b[39;00m:\n\u001b[1;32m   1376\u001b[0m         \u001b[39mself\u001b[39m\u001b[39m.\u001b[39mclose()\n",
      "File \u001b[0;32m/opt/conda/lib/python3.10/http/client.py:318\u001b[0m, in \u001b[0;36mHTTPResponse.begin\u001b[0;34m(self)\u001b[0m\n\u001b[1;32m    316\u001b[0m \u001b[39m# read until we get a non-100 response\u001b[39;00m\n\u001b[1;32m    317\u001b[0m \u001b[39mwhile\u001b[39;00m \u001b[39mTrue\u001b[39;00m:\n\u001b[0;32m--> 318\u001b[0m     version, status, reason \u001b[39m=\u001b[39m \u001b[39mself\u001b[39;49m\u001b[39m.\u001b[39;49m_read_status()\n\u001b[1;32m    319\u001b[0m     \u001b[39mif\u001b[39;00m status \u001b[39m!=\u001b[39m CONTINUE:\n\u001b[1;32m    320\u001b[0m         \u001b[39mbreak\u001b[39;00m\n",
      "File \u001b[0;32m/opt/conda/lib/python3.10/http/client.py:279\u001b[0m, in \u001b[0;36mHTTPResponse._read_status\u001b[0;34m(self)\u001b[0m\n\u001b[1;32m    278\u001b[0m \u001b[39mdef\u001b[39;00m \u001b[39m_read_status\u001b[39m(\u001b[39mself\u001b[39m):\n\u001b[0;32m--> 279\u001b[0m     line \u001b[39m=\u001b[39m \u001b[39mstr\u001b[39m(\u001b[39mself\u001b[39;49m\u001b[39m.\u001b[39;49mfp\u001b[39m.\u001b[39;49mreadline(_MAXLINE \u001b[39m+\u001b[39;49m \u001b[39m1\u001b[39;49m), \u001b[39m\"\u001b[39m\u001b[39miso-8859-1\u001b[39m\u001b[39m\"\u001b[39m)\n\u001b[1;32m    280\u001b[0m     \u001b[39mif\u001b[39;00m \u001b[39mlen\u001b[39m(line) \u001b[39m>\u001b[39m _MAXLINE:\n\u001b[1;32m    281\u001b[0m         \u001b[39mraise\u001b[39;00m LineTooLong(\u001b[39m\"\u001b[39m\u001b[39mstatus line\u001b[39m\u001b[39m\"\u001b[39m)\n",
      "File \u001b[0;32m/opt/conda/lib/python3.10/socket.py:705\u001b[0m, in \u001b[0;36mSocketIO.readinto\u001b[0;34m(self, b)\u001b[0m\n\u001b[1;32m    703\u001b[0m \u001b[39mwhile\u001b[39;00m \u001b[39mTrue\u001b[39;00m:\n\u001b[1;32m    704\u001b[0m     \u001b[39mtry\u001b[39;00m:\n\u001b[0;32m--> 705\u001b[0m         \u001b[39mreturn\u001b[39;00m \u001b[39mself\u001b[39;49m\u001b[39m.\u001b[39;49m_sock\u001b[39m.\u001b[39;49mrecv_into(b)\n\u001b[1;32m    706\u001b[0m     \u001b[39mexcept\u001b[39;00m timeout:\n\u001b[1;32m    707\u001b[0m         \u001b[39mself\u001b[39m\u001b[39m.\u001b[39m_timeout_occurred \u001b[39m=\u001b[39m \u001b[39mTrue\u001b[39;00m\n",
      "File \u001b[0;32m/opt/conda/lib/python3.10/ssl.py:1274\u001b[0m, in \u001b[0;36mSSLSocket.recv_into\u001b[0;34m(self, buffer, nbytes, flags)\u001b[0m\n\u001b[1;32m   1270\u001b[0m     \u001b[39mif\u001b[39;00m flags \u001b[39m!=\u001b[39m \u001b[39m0\u001b[39m:\n\u001b[1;32m   1271\u001b[0m         \u001b[39mraise\u001b[39;00m \u001b[39mValueError\u001b[39;00m(\n\u001b[1;32m   1272\u001b[0m           \u001b[39m\"\u001b[39m\u001b[39mnon-zero flags not allowed in calls to recv_into() on \u001b[39m\u001b[39m%s\u001b[39;00m\u001b[39m\"\u001b[39m \u001b[39m%\u001b[39m\n\u001b[1;32m   1273\u001b[0m           \u001b[39mself\u001b[39m\u001b[39m.\u001b[39m\u001b[39m__class__\u001b[39m)\n\u001b[0;32m-> 1274\u001b[0m     \u001b[39mreturn\u001b[39;00m \u001b[39mself\u001b[39;49m\u001b[39m.\u001b[39;49mread(nbytes, buffer)\n\u001b[1;32m   1275\u001b[0m \u001b[39melse\u001b[39;00m:\n\u001b[1;32m   1276\u001b[0m     \u001b[39mreturn\u001b[39;00m \u001b[39msuper\u001b[39m()\u001b[39m.\u001b[39mrecv_into(buffer, nbytes, flags)\n",
      "File \u001b[0;32m/opt/conda/lib/python3.10/ssl.py:1130\u001b[0m, in \u001b[0;36mSSLSocket.read\u001b[0;34m(self, len, buffer)\u001b[0m\n\u001b[1;32m   1128\u001b[0m \u001b[39mtry\u001b[39;00m:\n\u001b[1;32m   1129\u001b[0m     \u001b[39mif\u001b[39;00m buffer \u001b[39mis\u001b[39;00m \u001b[39mnot\u001b[39;00m \u001b[39mNone\u001b[39;00m:\n\u001b[0;32m-> 1130\u001b[0m         \u001b[39mreturn\u001b[39;00m \u001b[39mself\u001b[39;49m\u001b[39m.\u001b[39;49m_sslobj\u001b[39m.\u001b[39;49mread(\u001b[39mlen\u001b[39;49m, buffer)\n\u001b[1;32m   1131\u001b[0m     \u001b[39melse\u001b[39;00m:\n\u001b[1;32m   1132\u001b[0m         \u001b[39mreturn\u001b[39;00m \u001b[39mself\u001b[39m\u001b[39m.\u001b[39m_sslobj\u001b[39m.\u001b[39mread(\u001b[39mlen\u001b[39m)\n",
      "\u001b[0;31mKeyboardInterrupt\u001b[0m: "
     ]
    }
   ],
   "source": [
    "op_to_pre_edit_roots = {}\n",
    "one_ms = timedelta(milliseconds=1)\n",
    "for op_id in tqdm(op_to_pre_date.keys()):\n",
    "    pre_edit_root_ids = set(client.chunkedgraph.get_roots(list(op_to_svs[op_id]), op_to_pre_date[op_id]))\n",
    "    op_to_pre_edit_roots[op_id] = pre_edit_root_ids"
   ]
  },
  {
   "cell_type": "code",
   "execution_count": null,
   "metadata": {},
   "outputs": [],
   "source": []
  }
 ],
 "metadata": {
  "kernelspec": {
   "display_name": "Python 3 (ipykernel)",
   "language": "python",
   "name": "python3"
  },
  "language_info": {
   "codemirror_mode": {
    "name": "ipython",
    "version": 3
   },
   "file_extension": ".py",
   "mimetype": "text/x-python",
   "name": "python",
   "nbconvert_exporter": "python",
   "pygments_lexer": "ipython3",
   "version": "3.12.4"
  },
  "vscode": {
   "interpreter": {
    "hash": "d4d1e4263499bec80672ea0156c357c1ee493ec2b1c70f0acce89fc37c4a6abe"
   }
  }
 },
 "nbformat": 4,
 "nbformat_minor": 4
}
